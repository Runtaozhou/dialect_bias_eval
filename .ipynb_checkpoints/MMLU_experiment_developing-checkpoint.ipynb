{
 "cells": [
  {
   "cell_type": "markdown",
   "metadata": {},
   "source": [
    "## importing libraries"
   ]
  },
  {
   "cell_type": "code",
   "execution_count": 1,
   "metadata": {
    "scrolled": true
   },
   "outputs": [
    {
     "name": "stdout",
     "output_type": "stream",
     "text": [
      "Defaulting to user installation because normal site-packages is not writeable\n",
      "Collecting en-core-web-sm==3.7.1\n",
      "  Downloading https://github.com/explosion/spacy-models/releases/download/en_core_web_sm-3.7.1/en_core_web_sm-3.7.1-py3-none-any.whl (12.8 MB)\n",
      "\u001b[2K     \u001b[90m━━━━━━━━━━━━━━━━━━━━━━━━━━━━━━━━━━━━━━━━\u001b[0m \u001b[32m12.8/12.8 MB\u001b[0m \u001b[31m36.6 MB/s\u001b[0m eta \u001b[36m0:00:00\u001b[0m \u001b[36m0:00:01\u001b[0m\n",
      "\u001b[?25hRequirement already satisfied: spacy<3.8.0,>=3.7.2 in /home/uar6nw/.local/lib/python3.11/site-packages (from en-core-web-sm==3.7.1) (3.7.4)\n",
      "Requirement already satisfied: spacy-legacy<3.1.0,>=3.0.11 in /home/uar6nw/.local/lib/python3.11/site-packages (from spacy<3.8.0,>=3.7.2->en-core-web-sm==3.7.1) (3.0.12)\n",
      "Requirement already satisfied: spacy-loggers<2.0.0,>=1.0.0 in /home/uar6nw/.local/lib/python3.11/site-packages (from spacy<3.8.0,>=3.7.2->en-core-web-sm==3.7.1) (1.0.5)\n",
      "Requirement already satisfied: murmurhash<1.1.0,>=0.28.0 in /home/uar6nw/.local/lib/python3.11/site-packages (from spacy<3.8.0,>=3.7.2->en-core-web-sm==3.7.1) (1.0.10)\n",
      "Requirement already satisfied: cymem<2.1.0,>=2.0.2 in /home/uar6nw/.local/lib/python3.11/site-packages (from spacy<3.8.0,>=3.7.2->en-core-web-sm==3.7.1) (2.0.8)\n",
      "Requirement already satisfied: preshed<3.1.0,>=3.0.2 in /home/uar6nw/.local/lib/python3.11/site-packages (from spacy<3.8.0,>=3.7.2->en-core-web-sm==3.7.1) (3.0.9)\n",
      "Requirement already satisfied: thinc<8.3.0,>=8.2.2 in /home/uar6nw/.local/lib/python3.11/site-packages (from spacy<3.8.0,>=3.7.2->en-core-web-sm==3.7.1) (8.2.5)\n",
      "Requirement already satisfied: wasabi<1.2.0,>=0.9.1 in /home/uar6nw/.local/lib/python3.11/site-packages (from spacy<3.8.0,>=3.7.2->en-core-web-sm==3.7.1) (1.1.3)\n",
      "Requirement already satisfied: srsly<3.0.0,>=2.4.3 in /home/uar6nw/.local/lib/python3.11/site-packages (from spacy<3.8.0,>=3.7.2->en-core-web-sm==3.7.1) (2.4.8)\n",
      "Requirement already satisfied: catalogue<2.1.0,>=2.0.6 in /home/uar6nw/.local/lib/python3.11/site-packages (from spacy<3.8.0,>=3.7.2->en-core-web-sm==3.7.1) (2.0.10)\n",
      "Requirement already satisfied: weasel<0.4.0,>=0.1.0 in /home/uar6nw/.local/lib/python3.11/site-packages (from spacy<3.8.0,>=3.7.2->en-core-web-sm==3.7.1) (0.3.4)\n",
      "Requirement already satisfied: typer<0.10.0,>=0.3.0 in /home/uar6nw/.local/lib/python3.11/site-packages (from spacy<3.8.0,>=3.7.2->en-core-web-sm==3.7.1) (0.9.4)\n",
      "Requirement already satisfied: smart-open<7.0.0,>=5.2.1 in /home/uar6nw/.local/lib/python3.11/site-packages (from spacy<3.8.0,>=3.7.2->en-core-web-sm==3.7.1) (6.4.0)\n",
      "Requirement already satisfied: tqdm<5.0.0,>=4.38.0 in /home/uar6nw/.local/lib/python3.11/site-packages (from spacy<3.8.0,>=3.7.2->en-core-web-sm==3.7.1) (4.66.5)\n",
      "Requirement already satisfied: requests<3.0.0,>=2.13.0 in /home/uar6nw/.local/lib/python3.11/site-packages (from spacy<3.8.0,>=3.7.2->en-core-web-sm==3.7.1) (2.32.3)\n",
      "Requirement already satisfied: pydantic!=1.8,!=1.8.1,<3.0.0,>=1.7.4 in /home/uar6nw/.local/lib/python3.11/site-packages (from spacy<3.8.0,>=3.7.2->en-core-web-sm==3.7.1) (2.9.1)\n",
      "Requirement already satisfied: jinja2 in /home/uar6nw/.local/lib/python3.11/site-packages (from spacy<3.8.0,>=3.7.2->en-core-web-sm==3.7.1) (3.1.4)\n",
      "Requirement already satisfied: setuptools in /home/uar6nw/.local/lib/python3.11/site-packages (from spacy<3.8.0,>=3.7.2->en-core-web-sm==3.7.1) (74.1.2)\n",
      "Requirement already satisfied: packaging>=20.0 in /home/uar6nw/.local/lib/python3.11/site-packages (from spacy<3.8.0,>=3.7.2->en-core-web-sm==3.7.1) (24.1)\n",
      "Requirement already satisfied: langcodes<4.0.0,>=3.2.0 in /home/uar6nw/.local/lib/python3.11/site-packages (from spacy<3.8.0,>=3.7.2->en-core-web-sm==3.7.1) (3.4.0)\n",
      "Requirement already satisfied: numpy>=1.19.0 in /home/uar6nw/.local/lib/python3.11/site-packages (from spacy<3.8.0,>=3.7.2->en-core-web-sm==3.7.1) (1.26.4)\n",
      "Requirement already satisfied: language-data>=1.2 in /home/uar6nw/.local/lib/python3.11/site-packages (from langcodes<4.0.0,>=3.2.0->spacy<3.8.0,>=3.7.2->en-core-web-sm==3.7.1) (1.2.0)\n",
      "Requirement already satisfied: annotated-types>=0.6.0 in /home/uar6nw/.local/lib/python3.11/site-packages (from pydantic!=1.8,!=1.8.1,<3.0.0,>=1.7.4->spacy<3.8.0,>=3.7.2->en-core-web-sm==3.7.1) (0.7.0)\n",
      "Requirement already satisfied: pydantic-core==2.23.3 in /home/uar6nw/.local/lib/python3.11/site-packages (from pydantic!=1.8,!=1.8.1,<3.0.0,>=1.7.4->spacy<3.8.0,>=3.7.2->en-core-web-sm==3.7.1) (2.23.3)\n",
      "Requirement already satisfied: typing-extensions>=4.6.1 in /home/uar6nw/.local/lib/python3.11/site-packages (from pydantic!=1.8,!=1.8.1,<3.0.0,>=1.7.4->spacy<3.8.0,>=3.7.2->en-core-web-sm==3.7.1) (4.12.2)\n",
      "Requirement already satisfied: charset-normalizer<4,>=2 in /home/uar6nw/.local/lib/python3.11/site-packages (from requests<3.0.0,>=2.13.0->spacy<3.8.0,>=3.7.2->en-core-web-sm==3.7.1) (3.3.2)\n",
      "Requirement already satisfied: idna<4,>=2.5 in /home/uar6nw/.local/lib/python3.11/site-packages (from requests<3.0.0,>=2.13.0->spacy<3.8.0,>=3.7.2->en-core-web-sm==3.7.1) (3.8)\n",
      "Requirement already satisfied: urllib3<3,>=1.21.1 in /home/uar6nw/.local/lib/python3.11/site-packages (from requests<3.0.0,>=2.13.0->spacy<3.8.0,>=3.7.2->en-core-web-sm==3.7.1) (2.2.2)\n",
      "Requirement already satisfied: certifi>=2017.4.17 in /home/uar6nw/.local/lib/python3.11/site-packages (from requests<3.0.0,>=2.13.0->spacy<3.8.0,>=3.7.2->en-core-web-sm==3.7.1) (2024.8.30)\n",
      "Requirement already satisfied: blis<0.8.0,>=0.7.8 in /home/uar6nw/.local/lib/python3.11/site-packages (from thinc<8.3.0,>=8.2.2->spacy<3.8.0,>=3.7.2->en-core-web-sm==3.7.1) (0.7.11)\n",
      "Requirement already satisfied: confection<1.0.0,>=0.0.1 in /home/uar6nw/.local/lib/python3.11/site-packages (from thinc<8.3.0,>=8.2.2->spacy<3.8.0,>=3.7.2->en-core-web-sm==3.7.1) (0.1.5)\n",
      "Requirement already satisfied: click<9.0.0,>=7.1.1 in /home/uar6nw/.local/lib/python3.11/site-packages (from typer<0.10.0,>=0.3.0->spacy<3.8.0,>=3.7.2->en-core-web-sm==3.7.1) (8.1.7)\n",
      "Requirement already satisfied: cloudpathlib<0.17.0,>=0.7.0 in /home/uar6nw/.local/lib/python3.11/site-packages (from weasel<0.4.0,>=0.1.0->spacy<3.8.0,>=3.7.2->en-core-web-sm==3.7.1) (0.16.0)\n",
      "Requirement already satisfied: MarkupSafe>=2.0 in /home/uar6nw/.local/lib/python3.11/site-packages (from jinja2->spacy<3.8.0,>=3.7.2->en-core-web-sm==3.7.1) (2.1.5)\n",
      "Requirement already satisfied: marisa-trie>=0.7.7 in /home/uar6nw/.local/lib/python3.11/site-packages (from language-data>=1.2->langcodes<4.0.0,>=3.2.0->spacy<3.8.0,>=3.7.2->en-core-web-sm==3.7.1) (1.2.0)\n",
      "\u001b[38;5;2m✔ Download and installation successful\u001b[0m\n",
      "You can now load the package via spacy.load('en_core_web_sm')\n",
      "\u001b[38;5;3m⚠ Restart to reload dependencies\u001b[0m\n",
      "If you are in a Jupyter or Colab notebook, you may need to restart Python in\n",
      "order to load all the package's dependencies. You can do this by selecting the\n",
      "'Restart kernel' or 'Restart runtime' option.\n"
     ]
    },
    {
     "name": "stderr",
     "output_type": "stream",
     "text": [
      "[nltk_data] Downloading package cmudict to /home/uar6nw/nltk_data...\n",
      "[nltk_data]   Package cmudict is already up-to-date!\n",
      "[nltk_data] Downloading package wordnet to /home/uar6nw/nltk_data...\n",
      "[nltk_data]   Package wordnet is already up-to-date!\n"
     ]
    }
   ],
   "source": [
    "import re\n",
    "import pickle\n",
    "import scipy.stats as stats\n",
    "import pandas as pd\n",
    "import numpy as np\n",
    "from tqdm import tqdm\n",
    "from getDialect import detectDialect\n",
    "import matplotlib.pyplot as plt\n",
    "from itertools import combinations\n",
    "from qna_simulation import answer_extractor\n",
    "from qna_simulation import run_simulation\n",
    "from utils import extract_model_accuracy\n",
    "from utils import build_politeness_classifier\n",
    "from utils import predict_politeness\n",
    "from utils import get_readability_score\n",
    "from utils import categorize_score\n",
    "from utils import calculate_entropy\n",
    "from utils import create_readability_plot"
   ]
  },
  {
   "cell_type": "markdown",
   "metadata": {},
   "source": [
    "## Q&A simulation (one question per subject from MMLU)\n",
    "#### This might take 3-5 minutes"
   ]
  },
  {
   "cell_type": "code",
   "execution_count": null,
   "metadata": {
    "scrolled": true
   },
   "outputs": [],
   "source": [
    "# ## loading dataset names from pickle file\n",
    "# dataset_name = \"bigbench\"\n",
    "\n",
    "# if dataset_name == 'bigbench':\n",
    "#     category_names = ['navigate', 'tracking_shuffled_objects_three_objects','temporal_sequences', 'date_understanding', 'penguins_in_a_table','causal_judgement']\n",
    "# else:\n",
    "#     with open(\"dataset_name.pkl\", \"rb\") as f:\n",
    "#         category_names = pickle.load(f)\n",
    "\n",
    "\n",
    "\n",
    "# '''\n",
    "# important note:\n",
    "# parameter \"aave\" = True means you want to change the whole question prompt to AAVE \n",
    "# However, the \"aave_instruct\" = True just means you only want to change the instruction part of the question prompt to AAVE, \n",
    "# the acutal question remains SAE. \"aave\" and \"aave_instruct\" can not both be True.\n",
    "# '''\n",
    "\n",
    "# df_regular = run_simulation(dataset_name = dataset_name, category_names =category_names,   model_name = \"gpt-3.5\", aave= True, n_run = 1, aave_instruct = False, converter_type = \"both\")\n",
    "\n",
    "# df_regular"
   ]
  },
  {
   "cell_type": "markdown",
   "metadata": {},
   "source": [
    "## loading the Q&A simulation dataset from 7 different models"
   ]
  },
  {
   "cell_type": "code",
   "execution_count": 2,
   "metadata": {},
   "outputs": [],
   "source": [
    "\n",
    "gpt3_path = \"mmlu_dataset/gpt3/\"\n",
    "gpt4_path = \"mmlu_dataset/gpt4/\"\n",
    "llama31_path = \"mmlu_dataset/llama3.1/\"\n",
    "qwen_path = \"mmlu_dataset/qwen2.5/\"\n",
    "llama32_path = \"mmlu_dataset/llama3.2/\"\n",
    "gemma_path = \"mmlu_dataset/gemma2/\"\n",
    "mistral_path = \"mmlu_dataset/mistral/\"\n",
    "\n",
    "bigbench_gpt3_path = \"bigbench_dataset/gpt-3.5/\"\n",
    "bigbench_gpt4_path = \"bigbench_dataset/gpt-4/\"\n",
    "bigbench_llama31_path = \"bigbench_dataset/llama3.1/\"\n",
    "bigbench_qwen_path = \"bigbench_dataset/qwen2.5/\"\n",
    "bigbench_llama32_path = \"bigbench_dataset/llama3.2/\"\n",
    "bigbench_gemma_path = \"bigbench_dataset/gemma2/\"\n",
    "bigbench_mistral_path = \"bigbench_dataset/mistral/\"\n",
    "\n",
    "\n",
    "df_bigbench_regular_gpt3 = pd.read_csv(bigbench_gpt3_path+'regular_bigbench_qna.csv')\n",
    "df_bigbench_aave_gpt3 = pd.read_csv(bigbench_gpt3_path+'aave_llm_bigbench_qna.csv')\n",
    "\n",
    "df_bigbench_regular_gpt4 = pd.read_csv(bigbench_gpt4_path+'regular_bigbench_qna.csv')\n",
    "df_bigbench_aave_gpt4 = pd.read_csv(bigbench_gpt4_path+'aave_llm_bigbench_qna.csv')\n",
    "\n",
    "df_bigbench_regular_llama31 = pd.read_csv(bigbench_llama31_path+'regular_bigbench_qna.csv')\n",
    "df_bigbench_aave_llama31 = pd.read_csv(bigbench_llama31_path+'aave_llm_bigbench_qna.csv')\n",
    "\n",
    "df_bigbench_regular_llama32 = pd.read_csv(bigbench_llama32_path+'regular_bigbench_qna.csv')\n",
    "df_bigbench_aave_llama32 = pd.read_csv(bigbench_llama32_path+'aave_llm_bigbench_qna.csv')\n",
    "\n",
    "bigbench_regular_qwen = pd.read_csv(bigbench_qwen_path+'regular_bigbench_qna.csv')\n",
    "bigbench_aave_qwen = pd.read_csv(bigbench_qwen_path+'aave_llm_bigbench_qna.csv')\n",
    "\n",
    "bigbench_regular_gemma = pd.read_csv(bigbench_gemma_path+'regular_bigbench_qna.csv')\n",
    "bigbench_aave_gemma = pd.read_csv(bigbench_gemma_path+'aave_llm_bigbench_qna.csv')\n",
    "\n",
    "bigbench_regular_mistral = pd.read_csv(bigbench_gemma_path+'regular_bigbench_qna.csv')\n",
    "bigbench_aave_mistral = pd.read_csv(bigbench_gemma_path+'aave_llm_bigbench_qna.csv')\n",
    "\n",
    "\n",
    "df_regular_gpt3 = pd.read_csv(gpt3_path+'regular_mmlu_qna.csv')\n",
    "df_phonate_gpt3 = pd.read_csv(gpt3_path+'aave_phonate_mmlu_qna.csv')\n",
    "df_llm_gpt3 = pd.read_csv(gpt3_path+'aave_llm_mmlu_qna.csv')\n",
    "df_multivalue_gpt3 =  pd.read_csv(gpt3_path+'aave_multi_value_mmlu_qna.csv')\n",
    "df_multi_phonate_gpt3 = pd.read_csv(gpt3_path+'aave_multi_phonate_mmlu_qna.csv')\n",
    "\n",
    "df_regular_gpt4 = pd.read_csv(gpt4_path+'regular_mmlu_qna.csv')\n",
    "df_phonate_gpt4 = pd.read_csv(gpt4_path+'aave_phonate_mmlu_qna.csv')\n",
    "df_multivalue_gpt4 = pd.read_csv(gpt4_path+'aave_multi_value_mmlu_qna.csv')\n",
    "df_llm_gpt4 = pd.read_csv(gpt4_path+'aave_llm_mmlu_qna.csv')\n",
    "df_multi_phonate_gpt4 = pd.read_csv(gpt4_path+'aave_multi_phonate_mmlu_qna.csv')\n",
    "\n",
    "df_regular_llama31 = pd.read_csv(llama31_path + \"regular_mmlu_qna.csv\")\n",
    "df_phonate_llama31 = pd.read_csv(llama31_path + \"aave_phonate_mmlu_qna.csv\")\n",
    "df_llm_llama31 = pd.read_csv(llama31_path + \"aave_llm_mmlu_qna.csv\")\n",
    "df_multi_phonate_llama31 = pd.read_csv(llama31_path + \"aave_multi_phonate_mmlu_qna.csv\")\n",
    "df_multivalue_llama31 = pd.read_csv(llama31_path + \"aave_multi_value_mmlu_qna.csv\")\n",
    "\n",
    "df_regular_llama32 = pd.read_csv(llama32_path + \"regular_mmlu_qna.csv\")\n",
    "df_phonate_llama32 = pd.read_csv(llama32_path + \"aave_phonate_mmlu_qna.csv\")\n",
    "df_llm_llama32 = pd.read_csv(llama32_path + \"aave_llm_mmlu_qna.csv\")\n",
    "df_multi_phonate_llama32 = pd.read_csv(llama32_path + \"aave_multi_phonate_mmlu_qna.csv\")\n",
    "df_multivalue_llama32 = pd.read_csv(llama32_path + \"aave_multi_value_mmlu_qna.csv\")\n",
    "\n",
    "df_regular_qwen = pd.read_csv(qwen_path + \"regular_mmlu_qna.csv\")\n",
    "df_phonate_qwen = pd.read_csv(qwen_path + \"aave_phonate_mmlu_qna.csv\")\n",
    "df_llm_qwen = pd.read_csv(qwen_path + \"aave_llm_mmlu_qna.csv\")\n",
    "df_multi_phonate_qwen = pd.read_csv(qwen_path + \"aave_multi_phonate_mmlu_qna.csv\")\n",
    "df_multivalue_qwen = pd.read_csv(qwen_path + \"aave_multi_value_mmlu_qna.csv\")\n",
    "\n",
    "df_regular_gemma2 = pd.read_csv(gemma_path + \"regular_mmlu_qna.csv\")\n",
    "df_phonate_gemma2 = pd.read_csv(gemma_path + \"aave_phonate_mmlu_qna.csv\")\n",
    "df_llm_gemma2 = pd.read_csv(gemma_path + \"aave_llm_mmlu_qna.csv\")\n",
    "df_multi_phonate_gemma2 = pd.read_csv(gemma_path + \"aave_multi_phonate_mmlu_qna.csv\")\n",
    "df_multivalue_gemma2 = pd.read_csv(gemma_path + \"aave_multi_value_mmlu_qna.csv\")\n",
    "\n",
    "df_regular_mistral = pd.read_csv(mistral_path + \"regular_mmlu_qna.csv\")\n",
    "df_phonate_mistral = pd.read_csv(mistral_path + \"aave_phonate_mmlu_qna.csv\")\n",
    "df_llm_mistral = pd.read_csv(mistral_path + \"aave_llm_mmlu_qna.csv\")\n",
    "df_multi_phonate_mistral = pd.read_csv(mistral_path + \"aave_multi_phonate_mmlu_qna.csv\")\n",
    "df_multivalue_mistral = pd.read_csv(mistral_path + \"aave_multi_value_mmlu_qna.csv\")"
   ]
  },
  {
   "cell_type": "code",
   "execution_count": 3,
   "metadata": {},
   "outputs": [
    {
     "name": "stdout",
     "output_type": "stream",
     "text": [
      "0.46661665416354087\n",
      "0.39984996249062266\n"
     ]
    }
   ],
   "source": [
    "print(extract_model_accuracy(bigbench_regular_gemma))\n",
    "print(extract_model_accuracy(bigbench_aave_gemma))"
   ]
  },
  {
   "cell_type": "code",
   "execution_count": null,
   "metadata": {},
   "outputs": [],
   "source": [
    "import seaborn as sns\n",
    "df_accuracy = pd.read_csv('model_accuracy.csv')\n",
    "df_llm_only = df_accuracy[(df_accuracy['converter'] == \"none\") | (df_accuracy['converter'] == \"llm\")]\n",
    "\n",
    "data = {\n",
    "        \"Models\": list(df_llm_only['model']),\n",
    "        \"Question Dialect\": list(df_llm_only['converter']),\n",
    "        \"Accuracy\": list(df_llm_only['accuracy']) # Notice one value is 0\n",
    "    }\n",
    "df = pd.DataFrame(data)\n",
    "\n",
    "# Plot\n",
    "plt.figure(figsize=(12, 6))\n",
    "ax = sns.barplot(\n",
    "    data=df,\n",
    "    x=\"Models\",\n",
    "    y=\"Accuracy\",\n",
    "    hue=\"Question Dialect\",\n",
    "    palette=\"muted\"\n",
    ")\n",
    "\n",
    "# Adding values on top of the bars\n",
    "for p in ax.patches:\n",
    "    if p.get_height() > 0:  # Only add text for bars with height > 0\n",
    "        ax.annotate(\n",
    "            f'{p.get_height():.3f}',  # Format the value as an integer\n",
    "            (p.get_x() + p.get_width() / 2., p.get_height()),  # Position at bar center\n",
    "            ha='center',  # Horizontal alignment\n",
    "            va='center',  # Vertical alignment\n",
    "            xytext=(0, 8),  # Offset text position by 8 points\n",
    "            textcoords='offset points'\n",
    "        )\n",
    "\n",
    "# Adding labels\n",
    "plt.title(\"Average Answer Accuracy of Various LLMs on AAVE Questions V.S. SAE Questions\", fontsize=16)\n",
    "plt.xlabel(\"Models\", fontsize=12)\n",
    "plt.ylabel(\"Accuracy\", fontsize=12)\n",
    "plt.xticks(rotation = 25)\n",
    "# Change legend text\n",
    "# Show the plot\n",
    "handles, labels = ax.get_legend_handles_labels()  # Get current handles and labels\n",
    "new_labels = ['SAE', 'AAVE']  # Define the new labels\n",
    "ax.legend(handles, new_labels, title='Question Dialect')\n",
    "plt.tight_layout()\n",
    "plt.savefig(\"model_accuracy.png\", dpi=300, format='png', bbox_inches='tight')\n",
    "plt.show()"
   ]
  },
  {
   "cell_type": "code",
   "execution_count": null,
   "metadata": {},
   "outputs": [],
   "source": [
    "\n",
    "matches_regular_gpt4 = extract_model_accuracy(df_regular_gpt4)\n",
    "matches_phonate_gpt4 = extract_model_accuracy(df_phonate_gpt4)\n",
    "matches_llm_gpt4 =  extract_model_accuracy(df_llm_gpt4)\n",
    "matches_multi_value_gpt4 =  extract_model_accuracy(df_multi_phonate_gpt4)\n",
    "matches_multi_phonate_gpt4 =  extract_model_accuracy(df_multivalue_gpt4)\n",
    "\n",
    "print(f\"the accuracy of sae question from gpt4 is: {matches_regular_gpt4}\")\n",
    "print(f\"the accuracy of aave phonate question from gpt4 is: {matches_phonate_gpt4}\")\n",
    "print(f\"the accuracy of aave llm question from gpt4 is: {matches_llm_gpt4}\")\n",
    "print(f\"the accuracy of aave multivalue question from gpt4 is: {matches_multi_value_gpt4}\")\n",
    "print(f\"the accuracy of aave multivalue + phonate question from gpt4 is: {matches_multi_phonate_gpt4}\")"
   ]
  },
  {
   "cell_type": "markdown",
   "metadata": {},
   "source": [
    "## Experiment 1: Politeness Classification for LLM Answers\n",
    "#### This process might take more than 5 mins "
   ]
  },
  {
   "cell_type": "code",
   "execution_count": null,
   "metadata": {
    "scrolled": true
   },
   "outputs": [],
   "source": [
    "clf_polite = build_politeness_classifier()\n",
    "politeness_classification_gpt4= predict_politeness(clf_polite, df_regular_gpt4)\n",
    "print(f\"polite answer for gpt4: {politeness_classification_gpt4[0]}\")\n",
    "print(f\"neutral answer for gpt4: {politeness_classification_gpt4[1]}\")"
   ]
  },
  {
   "cell_type": "markdown",
   "metadata": {},
   "source": [
    "#### To same your time, this is the complete politeness score for all models and dialects converters. "
   ]
  },
  {
   "cell_type": "code",
   "execution_count": null,
   "metadata": {
    "scrolled": true
   },
   "outputs": [],
   "source": [
    "df_politeness_score = pd.read_csv('politeness_score.csv')\n",
    "df_politeness_score"
   ]
  },
  {
   "cell_type": "markdown",
   "metadata": {},
   "source": [
    "## Experiment 2: Readability for LLM Answers"
   ]
  },
  {
   "cell_type": "code",
   "execution_count": null,
   "metadata": {},
   "outputs": [],
   "source": [
    "reg_flesh_score_gpt4 = get_readability_score(df_regular_gpt4)\n",
    "aave_flesh_score_gpt4 = get_readability_score(df_llm_gpt4)"
   ]
  },
  {
   "cell_type": "markdown",
   "metadata": {},
   "source": [
    "#### After we get the flesch kincaid score, we want to classify each score into the corresponding grade level"
   ]
  },
  {
   "cell_type": "code",
   "execution_count": null,
   "metadata": {},
   "outputs": [],
   "source": [
    "grade_level_regular = np.array([categorize_score(score) for score in reg_flesh_score_gpt4])\n",
    "print(\"sae answer grade level\")\n",
    "print(np.unique(grade_level_regular, return_counts=True))\n",
    "grade_level_aave = np.array([categorize_score(score) for score in aave_flesh_score_gpt4])\n",
    "print(\"aave answer grade level\")\n",
    "print(np.unique(grade_level_aave, return_counts=True))"
   ]
  },
  {
   "cell_type": "markdown",
   "metadata": {},
   "source": [
    "#### Again to same your time, I have run all the readability process and here is the result for gpt4 specifically. "
   ]
  },
  {
   "cell_type": "code",
   "execution_count": null,
   "metadata": {},
   "outputs": [],
   "source": [
    "df_readability = pd.read_csv('readability_v1.csv')\n",
    "\n",
    "create_readability_plot(df_readability, 'llama3.1')"
   ]
  },
  {
   "cell_type": "markdown",
   "metadata": {},
   "source": [
    "## Experiment 3: Linguistic Marker Analysis "
   ]
  },
  {
   "cell_type": "code",
   "execution_count": 4,
   "metadata": {},
   "outputs": [],
   "source": [
    "import re\n",
    "from collections import Counter\n",
    "\n",
    "def tokenize(text):\n",
    "    # you may want to use a smarter tokenizer\n",
    "    for match in re.finditer(r'\\w+', text, re.UNICODE):\n",
    "        yield match.group(0)\n",
    "\n",
    "import liwc\n",
    "parse, category_names = liwc.load_token_parser('LIWC2007_English100131.dic')"
   ]
  },
  {
   "cell_type": "code",
   "execution_count": null,
   "metadata": {},
   "outputs": [],
   "source": [
    "\n",
    "def create_ling_marker_df (df, model, dialect):\n",
    "    merged_counter_sae = Counter()\n",
    "    token_num_sae = 0\n",
    "    for i in range(len(df)):\n",
    "        answer  = df.loc[i]['answer']\n",
    "        count_tokens = tokenize(answer)\n",
    "        for tok in count_tokens:\n",
    "            token_num_sae+=1\n",
    "        answer_tokens = tokenize(answer)\n",
    "    \n",
    "        # now flatmap over all the categories in all of the tokens using a generator:\n",
    "        answer_counts = Counter(category for token in answer_tokens for category in parse(token))\n",
    "        # and print the results:\n",
    "        merged_counter_sae +=answer_counts\n",
    "    normalized_counter_sae = Counter({word: (count / token_num_sae)*1000 for word, count in merged_counter_sae.items()})\n",
    "    ling_count = [model, dialect]\n",
    "    columns = ['ppron','i','you','we','they','social','posemo','negemo','tentat','certain','percept']\n",
    "    for i in columns:\n",
    "        ling_count.append(normalized_counter_sae[i])\n",
    "    return ling_count\n",
    "\n"
   ]
  },
  {
   "cell_type": "code",
   "execution_count": null,
   "metadata": {},
   "outputs": [],
   "source": []
  },
  {
   "cell_type": "code",
   "execution_count": 6,
   "metadata": {},
   "outputs": [],
   "source": [
    "df_ling = pd.read_csv('linguistic_marker.csv')"
   ]
  },
  {
   "cell_type": "code",
   "execution_count": 11,
   "metadata": {},
   "outputs": [
    {
     "data": {
      "image/png": "[encoded data removed]",
      "text/plain": [
       "<Figure size 1200x600 with 1 Axes>"
      ]
     },
     "metadata": {},
     "output_type": "display_data"
    }
   ],
   "source": [
    "import pandas as pd\n",
    "import seaborn as sns\n",
    "import matplotlib.pyplot as plt\n",
    "#'you'\n",
    "# \"i\"\n",
    "# 'ppron'\n",
    "#'social'\n",
    "#'posemo'\n",
    "#'tentat'\n",
    "#'percept'\n",
    "#'negemo'\n",
    "# Group by 'model' and 'dialect' and extract a specific column, e.g., 'ppron'\n",
    "marker = 'they'\n",
    "plot_data = df_ling.pivot(index='model', columns='dialect', values=marker)\n",
    "\n",
    "# Melt the pivoted DataFrame to long format for seaborn\n",
    "df_long = plot_data.reset_index().melt(id_vars='model', var_name='Question Dialect', value_name='Frequency')\n",
    "\n",
    "# Plot with seaborn\n",
    "plt.figure(figsize=(12, 6))\n",
    "ax = sns.barplot(\n",
    "    data=df_long,\n",
    "    x=\"Frequency\",\n",
    "    y=\"model\",\n",
    "    hue=\"Question Dialect\",\n",
    "    palette=\"muted\"\n",
    ")\n",
    "\n",
    "\n",
    "plt.title(f'Linguistic Marker {marker} Frequency Per 1000 Tokens', fontsize=16)\n",
    "plt.xlabel(\"Frequency per 1000 tokens\", fontsize=12)\n",
    "\n",
    "handles, labels = ax.get_legend_handles_labels()  # Get current handles and labels\n",
    "new_labels = ['AAVE', 'SAE']  # Define the new labels\n",
    "ax.legend(handles, new_labels, title='Question Dialect')\n",
    "\n",
    "\n",
    "plt.tight_layout()\n",
    "plt.savefig(f\"liwc_{marker}.png\", dpi=300, format='png', bbox_inches='tight')\n",
    "\n",
    "# Show the plot\n",
    "plt.show()\n"
   ]
  },
  {
   "cell_type": "code",
   "execution_count": 77,
   "metadata": {},
   "outputs": [
    {
     "data": {
      "image/png": "[encoded data removed]",
      "text/plain": [
       "<Figure size 1500x1000 with 8 Axes>"
      ]
     },
     "metadata": {},
     "output_type": "display_data"
    }
   ],
   "source": [
    "import pandas as pd\n",
    "import seaborn as sns\n",
    "import matplotlib.pyplot as plt\n",
    "\n",
    "plt.rc('font',  weight='bold', size=15)\n",
    "plt.rc('axes', titlesize=15, labelsize=15)  # Bold axes titles and labels\n",
    "plt.rc('legend', fontsize=15)  # Legend font size\n",
    "plt.rc('xtick', labelsize=15)  # X-axis tick font size\n",
    "plt.rc('ytick', labelsize=15)  # Y-axis tick font size\n",
    "\n",
    "# Example linguistic markers (replace with your actual list of markers)\n",
    "linguistic_markers = ['ppron','they', 'you', 'social', 'posemo', 'certain','tentat','percept']\n",
    "\n",
    "marker_dic = {'ppron':'Personal Pronouns',\n",
    "             'they': \"They\",\n",
    "             'you': 'You',\n",
    "             'social': 'Social Processes',\n",
    "             'posemo': 'Positive Emotions',\n",
    "             'certain': 'Certainty',\n",
    "             'tentat':'Tentative',\n",
    "             'percept':'Perceptual Processes'}\n",
    "\n",
    "# Create a grid layout\n",
    "n_rows = 2  # Number of rows in the grid\n",
    "n_cols = 4  # Number of columns in the grid\n",
    "fig, axes = plt.subplots(n_rows, n_cols, figsize=(15, 10), sharex=False, sharey=True)  # Set sharex=False\n",
    "\n",
    "# Flatten the axes for easier iteration\n",
    "axes = axes.flatten()\n",
    "\n",
    "# Loop through markers and create a horizontal bar plot in each grid cell\n",
    "for i, marker in enumerate(linguistic_markers):\n",
    "    if i < len(axes):  # Avoid index error if markers < grid cells\n",
    "        # Prepare the data for the current marker\n",
    "        plot_data = df_ling.pivot(index='model', columns='dialect', values=marker)\n",
    "        df_long = plot_data.reset_index().melt(id_vars='model', var_name='Question Dialect', value_name='Frequency')\n",
    "        \n",
    "        # Plot the data in the respective subplot\n",
    "        sns.barplot(\n",
    "            data=df_long,\n",
    "            x=\"Frequency\",\n",
    "            y=\"model\",\n",
    "            hue=\"Question Dialect\",\n",
    "            palette=\"muted\",\n",
    "            ax=axes[i],\n",
    "            dodge=True,\n",
    "        )\n",
    "        # Customize the subplot\n",
    "        axes[i].set_title(f\"{marker_dic[marker]}\",weight='bold')\n",
    "        axes[i].set_xlabel(\"Frequency per 1000 tokens\")\n",
    "        axes[i].set_ylabel(\"Model Name\")\n",
    "\n",
    "        # Remove legend from individual subplots\n",
    "        axes[i].legend_.remove()\n",
    "        \n",
    "\n",
    "# Adjust the layout\n",
    "plt.tight_layout()\n",
    "plt.subplots_adjust(\n",
    "    top=0.91,\n",
    "    hspace=0.3,  # Reduce vertical spacing (smaller value decreases distance)\n",
    "    wspace=0.15   # Reduce horizontal spacing (smaller value decreases distance)\n",
    ")\n",
    "\n",
    "# Create a single global legend outside the grid\n",
    "handles, labels = axes[0].get_legend_handles_labels()  # Extract handles and labels from the first subplot\n",
    "fig.legend(handles, labels, title=\"Question Dialect\", loc='upper center', ncol=3, bbox_to_anchor=(0.5, 1.02))\n",
    "plt.savefig('my_plot.pdf',bbox_inches='tight')\n",
    "plt.show()\n",
    "\n"
   ]
  },
  {
   "cell_type": "markdown",
   "metadata": {},
   "source": [
    "## Experiment 4: Uncertainty in the Answer Produced by LLMs."
   ]
  },
  {
   "cell_type": "markdown",
   "metadata": {},
   "source": [
    "with open(\"dataset_name.pkl\", \"rb\") as f:\n",
    "    dataset_names = pickle.load(f)\n",
    "    \n",
    "for i in range(10):\n",
    "    df_regular = run_simulation(dataset_names = dataset_names, model_name = \"gpt-3.5\", aave= False, n_run = 1, aave_instruct = False, converter_type = \"both\")\n",
    "    df_regular.to_csv(f'uncertainty_exp/sae_uncertainty_{i}.csv', header = True, index = False)"
   ]
  },
  {
   "cell_type": "raw",
   "metadata": {
    "scrolled": true
   },
   "source": [
    "with open(\"dataset_name.pkl\", \"rb\") as f:\n",
    "    dataset_names = pickle.load(f)\n",
    "for i in range(10):\n",
    "    df_regular = run_simulation(dataset_names = dataset_names, model_name = \"llama3.1\", aave= True, n_run = 1, aave_instruct = False, converter_type = \"llm_rulebased_persona\")\n",
    "    df_regular.to_csv(f'uncertainty_exp/llama3.1/aave_uncertainty_{i}.csv', header = True, index = False)"
   ]
  },
  {
   "cell_type": "code",
   "execution_count": null,
   "metadata": {},
   "outputs": [],
   "source": [
    "from evaluate import load\n",
    "import math\n",
    "def create_uncertainty_df(model_name, df_uncertain):\n",
    "    llm_model = model_name\n",
    "    df = pd.read_csv(f'uncertainty_exp/{llm_model}/aave_uncertainty_0.csv')\n",
    "    columns = df.columns\n",
    "    sae_uncertainty_df = pd.DataFrame(columns = columns)\n",
    "    aave_uncertainty_df = pd.DataFrame(columns = columns)\n",
    "    \n",
    "    with open(\"dataset_name.pkl\", \"rb\") as f:\n",
    "        dataset_names = pickle.load(f)\n",
    "    \n",
    "    for i in range(10):\n",
    "        temp_df_sae = pd.read_csv(f'uncertainty_exp/{llm_model}/sae_uncertainty_{i}.csv')\n",
    "        temp_df_aave = pd.read_csv(f'uncertainty_exp/{llm_model}/aave_uncertainty_{i}.csv')\n",
    "        sae_uncertainty_df = pd.concat([sae_uncertainty_df, temp_df_sae], ignore_index=True)\n",
    "        aave_uncertainty_df = pd.concat([aave_uncertainty_df, temp_df_aave], ignore_index=True)\n",
    "    \n",
    "    sae_uncertainty_df['letter_answer'] = sae_uncertainty_df['letter_answer'].str.replace(r'[()]', '', regex=True)\n",
    "    aave_uncertainty_df['letter_answer'] = aave_uncertainty_df['letter_answer'].str.replace(r'[()]', '', regex=True)\n",
    "    # acc_sae = extract_model_accuracy(sae_uncertainty_df)\n",
    "    # acc_aave  = extract_model_accuracy(aave_uncertainty_df)\n",
    "    entropy_lst_sae = []\n",
    "    entropy_lst_aave = []\n",
    "    correct_sae_lst = []\n",
    "    correct_aave_lst = []\n",
    "    for name in dataset_names:\n",
    "        name = name.split('-')[1]\n",
    "        try:\n",
    "            \n",
    "            subject_df_sae = sae_uncertainty_df[sae_uncertainty_df['subject']==name]\n",
    "            sae_matches = (subject_df_sae['letter_answer'] == subject_df_sae['correct_answer'])\n",
    "            sae_proportion = sae_matches.mean()\n",
    "            correct_sae_lst.append(sae_proportion)\n",
    "            entropy_sae = calculate_entropy(subject_df_sae['letter_answer'])\n",
    "            entropy_lst_sae.append(entropy_sae)\n",
    "            subject_df_aave = aave_uncertainty_df[aave_uncertainty_df['subject']==name]\n",
    "            aave_matches = (subject_df_aave['letter_answer'] == subject_df_aave['correct_answer'])\n",
    "            aave_proportion = aave_matches.mean()\n",
    "            correct_aave_lst.append(aave_proportion)\n",
    "            entropy_aave = calculate_entropy(subject_df_aave['letter_answer'])\n",
    "            entropy_lst_aave.append(entropy_aave)\n",
    "        except:\n",
    "            continue\n",
    "    \n",
    "    bertscore = load(\"bertscore\")\n",
    "    bertscore_lst_f1_aave = []\n",
    "    bertscore_lst_precision_aave = []\n",
    "    bertscore_lst_recall_aave = []\n",
    "    for name in dataset_names:\n",
    "        name = name.split('-')[1]\n",
    "        try:\n",
    "            subject_df = aave_uncertainty_df[aave_uncertainty_df['subject']==name]\n",
    "            unique_pairs = list(combinations(subject_df.index, 2))\n",
    "            references = [subject_df.loc[i[0]]['answer'] for i in unique_pairs]\n",
    "            predictions = [subject_df.loc[i[1]]['answer'] for i in unique_pairs]\n",
    "            results = bertscore.compute(predictions=predictions, references=references, model_type=\"distilbert-base-uncased\")\n",
    "            bertscore_lst_f1_aave.append(sum(results['f1'])/len(results['f1']))\n",
    "            bertscore_lst_precision_aave.append(sum(results['precision'])/len(results['precision']))\n",
    "            bertscore_lst_recall_aave.append(sum(results['recall'])/len(results['recall']))\n",
    "        except:\n",
    "            continue\n",
    "            \n",
    "    bertscore_lst_f1_sae = []\n",
    "    bertscore_lst_precision_sae = []\n",
    "    bertscore_lst_recall_sae = []\n",
    "    for name in dataset_names:\n",
    "        name = name.split('-')[1]\n",
    "        try:\n",
    "            subject_df = sae_uncertainty_df[sae_uncertainty_df['subject']==name]\n",
    "            unique_pairs = list(combinations(subject_df.index, 2))\n",
    "            references = [subject_df.loc[i[0]]['answer'] for i in unique_pairs]\n",
    "            predictions = [subject_df.loc[i[1]]['answer'] for i in unique_pairs]\n",
    "            results = bertscore.compute(predictions=predictions, references=references, model_type=\"distilbert-base-uncased\")\n",
    "            bertscore_lst_f1_sae.append(sum(results['f1'])/len(results['f1']))\n",
    "            bertscore_lst_precision_sae.append(sum(results['precision'])/len(results['precision']))\n",
    "            bertscore_lst_recall_sae.append(sum(results['recall'])/len(results['recall']))\n",
    "        except:\n",
    "            continue\n",
    "\n",
    "    correct_sae_lst = [x for x in correct_sae_lst if not math.isnan(x)]\n",
    "    correct_aave_lst = [x for x in correct_aave_lst if not math.isnan(x)]\n",
    "    print([model_name,\"sae\",(sum(entropy_lst_sae)/len(entropy_lst_sae)),(sum(bertscore_lst_f1_sae)/len(bertscore_lst_f1_sae)),(sum(bertscore_lst_precision_sae)/len(bertscore_lst_precision_sae)),(sum(bertscore_lst_recall_sae)/len(bertscore_lst_recall_sae)),(sum(correct_sae_lst)/len(correct_sae_lst))] )\n",
    "    df_uncertain.loc[len(df_uncertain)] = [model_name,\"sae\",(sum(entropy_lst_sae)/len(entropy_lst_sae)),(sum(bertscore_lst_f1_sae)/len(bertscore_lst_f1_sae)),(sum(bertscore_lst_precision_sae)/len(bertscore_lst_precision_sae)),(sum(bertscore_lst_recall_sae)/len(bertscore_lst_recall_sae)),(sum(correct_sae_lst)/len(correct_sae_lst))]\n",
    "    df_uncertain.loc[len(df_uncertain)] = [model_name,\"aave\",(sum(entropy_lst_aave)/len(entropy_lst_aave)),(sum(bertscore_lst_f1_aave)/len(bertscore_lst_f1_aave)),(sum(bertscore_lst_precision_aave)/len(bertscore_lst_precision_aave)),(sum(bertscore_lst_recall_aave)/len(bertscore_lst_recall_aave)),(sum(correct_aave_lst)/len(correct_aave_lst))]\n",
    "    print(sum(entropy_lst_sae)/len(entropy_lst_sae))\n",
    "    print(sum(entropy_lst_aave)/len(entropy_lst_aave))\n",
    "    print(f\"the final score f1 is: {sum(bertscore_lst_f1_aave)/len(bertscore_lst_f1_aave)}\")\n",
    "    print(f\"the final score precision is: {sum(bertscore_lst_precision_aave)/len(bertscore_lst_precision_aave)}\")\n",
    "    print(f\"the final score recall is: {sum(bertscore_lst_recall_aave)/len(bertscore_lst_recall_aave)}\")\n",
    "    print(f\"the final score f1 is: {sum(bertscore_lst_f1_sae)/len(bertscore_lst_f1_sae)}\")\n",
    "    print(f\"the final score precision is: {sum(bertscore_lst_precision_sae)/len(bertscore_lst_precision_sae)}\")\n",
    "    print(f\"the final score recall is: {sum(bertscore_lst_recall_sae)/len(bertscore_lst_recall_sae)}\")\n",
    "    return df_uncertain"
   ]
  },
  {
   "cell_type": "code",
   "execution_count": 2,
   "metadata": {},
   "outputs": [],
   "source": [
    "ling_df = pd.read_csv('linguistic_marker.csv')"
   ]
  },
  {
   "cell_type": "code",
   "execution_count": 3,
   "metadata": {},
   "outputs": [
    {
     "data": {
      "text/html": [
       "<div>\n",
       "<style scoped>\n",
       "    .dataframe tbody tr th:only-of-type {\n",
       "        vertical-align: middle;\n",
       "    }\n",
       "\n",
       "    .dataframe tbody tr th {\n",
       "        vertical-align: top;\n",
       "    }\n",
       "\n",
       "    .dataframe thead th {\n",
       "        text-align: right;\n",
       "    }\n",
       "</style>\n",
       "<table border=\"1\" class=\"dataframe\">\n",
       "  <thead>\n",
       "    <tr style=\"text-align: right;\">\n",
       "      <th></th>\n",
       "      <th>model</th>\n",
       "      <th>dialect</th>\n",
       "      <th>ppron</th>\n",
       "      <th>i</th>\n",
       "      <th>you</th>\n",
       "      <th>we</th>\n",
       "      <th>they</th>\n",
       "      <th>social</th>\n",
       "      <th>posemo</th>\n",
       "      <th>negemo</th>\n",
       "      <th>tentat</th>\n",
       "      <th>certain</th>\n",
       "      <th>percept</th>\n",
       "    </tr>\n",
       "  </thead>\n",
       "  <tbody>\n",
       "    <tr>\n",
       "      <th>0</th>\n",
       "      <td>gpt3</td>\n",
       "      <td>sae</td>\n",
       "      <td>20.274755</td>\n",
       "      <td>1.812316</td>\n",
       "      <td>4.364309</td>\n",
       "      <td>6.260919</td>\n",
       "      <td>6.027004</td>\n",
       "      <td>53.242043</td>\n",
       "      <td>24.360895</td>\n",
       "      <td>12.131979</td>\n",
       "      <td>32.979932</td>\n",
       "      <td>18.540411</td>\n",
       "      <td>8.686471</td>\n",
       "    </tr>\n",
       "    <tr>\n",
       "      <th>1</th>\n",
       "      <td>gpt3</td>\n",
       "      <td>aave</td>\n",
       "      <td>24.720154</td>\n",
       "      <td>2.215846</td>\n",
       "      <td>6.008119</td>\n",
       "      <td>6.987354</td>\n",
       "      <td>7.399558</td>\n",
       "      <td>59.453840</td>\n",
       "      <td>25.122304</td>\n",
       "      <td>12.064497</td>\n",
       "      <td>36.891220</td>\n",
       "      <td>17.626230</td>\n",
       "      <td>10.568499</td>\n",
       "    </tr>\n",
       "    <tr>\n",
       "      <th>2</th>\n",
       "      <td>gpt4</td>\n",
       "      <td>sae</td>\n",
       "      <td>16.105875</td>\n",
       "      <td>0.616029</td>\n",
       "      <td>2.728548</td>\n",
       "      <td>5.184828</td>\n",
       "      <td>5.631425</td>\n",
       "      <td>46.008250</td>\n",
       "      <td>21.594310</td>\n",
       "      <td>11.945476</td>\n",
       "      <td>28.805472</td>\n",
       "      <td>15.818917</td>\n",
       "      <td>8.447137</td>\n",
       "    </tr>\n",
       "    <tr>\n",
       "      <th>3</th>\n",
       "      <td>gpt4</td>\n",
       "      <td>aave</td>\n",
       "      <td>23.978082</td>\n",
       "      <td>0.888688</td>\n",
       "      <td>6.629263</td>\n",
       "      <td>7.422873</td>\n",
       "      <td>6.845614</td>\n",
       "      <td>55.181119</td>\n",
       "      <td>23.346492</td>\n",
       "      <td>11.540331</td>\n",
       "      <td>31.084675</td>\n",
       "      <td>15.671372</td>\n",
       "      <td>10.698212</td>\n",
       "    </tr>\n",
       "    <tr>\n",
       "      <th>4</th>\n",
       "      <td>llama3.1</td>\n",
       "      <td>sae</td>\n",
       "      <td>26.976371</td>\n",
       "      <td>2.810486</td>\n",
       "      <td>4.046316</td>\n",
       "      <td>10.915251</td>\n",
       "      <td>7.016414</td>\n",
       "      <td>57.608893</td>\n",
       "      <td>26.491000</td>\n",
       "      <td>10.645497</td>\n",
       "      <td>37.784281</td>\n",
       "      <td>18.376900</td>\n",
       "      <td>12.044673</td>\n",
       "    </tr>\n",
       "    <tr>\n",
       "      <th>5</th>\n",
       "      <td>llama3.1</td>\n",
       "      <td>aave</td>\n",
       "      <td>34.407346</td>\n",
       "      <td>3.785347</td>\n",
       "      <td>8.297436</td>\n",
       "      <td>12.158041</td>\n",
       "      <td>8.117716</td>\n",
       "      <td>66.624358</td>\n",
       "      <td>29.436972</td>\n",
       "      <td>9.792480</td>\n",
       "      <td>39.239561</td>\n",
       "      <td>17.340709</td>\n",
       "      <td>14.278734</td>\n",
       "    </tr>\n",
       "    <tr>\n",
       "      <th>6</th>\n",
       "      <td>llama3.2</td>\n",
       "      <td>sae</td>\n",
       "      <td>20.309254</td>\n",
       "      <td>1.319671</td>\n",
       "      <td>2.085490</td>\n",
       "      <td>8.285891</td>\n",
       "      <td>6.512199</td>\n",
       "      <td>50.437406</td>\n",
       "      <td>23.873049</td>\n",
       "      <td>11.465409</td>\n",
       "      <td>34.620502</td>\n",
       "      <td>18.508211</td>\n",
       "      <td>10.661299</td>\n",
       "    </tr>\n",
       "    <tr>\n",
       "      <th>7</th>\n",
       "      <td>llama3.2</td>\n",
       "      <td>aave</td>\n",
       "      <td>26.166607</td>\n",
       "      <td>1.885467</td>\n",
       "      <td>5.277357</td>\n",
       "      <td>9.347904</td>\n",
       "      <td>7.585069</td>\n",
       "      <td>58.363086</td>\n",
       "      <td>26.839689</td>\n",
       "      <td>11.025733</td>\n",
       "      <td>37.785990</td>\n",
       "      <td>17.810907</td>\n",
       "      <td>13.301393</td>\n",
       "    </tr>\n",
       "    <tr>\n",
       "      <th>8</th>\n",
       "      <td>qwen2.5</td>\n",
       "      <td>sae</td>\n",
       "      <td>18.028662</td>\n",
       "      <td>1.781504</td>\n",
       "      <td>2.761265</td>\n",
       "      <td>5.166493</td>\n",
       "      <td>6.267571</td>\n",
       "      <td>46.965246</td>\n",
       "      <td>24.925232</td>\n",
       "      <td>11.357583</td>\n",
       "      <td>31.654333</td>\n",
       "      <td>18.844910</td>\n",
       "      <td>9.105318</td>\n",
       "    </tr>\n",
       "    <tr>\n",
       "      <th>9</th>\n",
       "      <td>qwen2.5</td>\n",
       "      <td>aave</td>\n",
       "      <td>21.759130</td>\n",
       "      <td>1.993102</td>\n",
       "      <td>4.842842</td>\n",
       "      <td>5.703440</td>\n",
       "      <td>7.004896</td>\n",
       "      <td>52.507019</td>\n",
       "      <td>26.744525</td>\n",
       "      <td>11.248487</td>\n",
       "      <td>34.433147</td>\n",
       "      <td>18.386696</td>\n",
       "      <td>10.667716</td>\n",
       "    </tr>\n",
       "    <tr>\n",
       "      <th>10</th>\n",
       "      <td>gemma2</td>\n",
       "      <td>sae</td>\n",
       "      <td>23.744831</td>\n",
       "      <td>1.485979</td>\n",
       "      <td>5.393096</td>\n",
       "      <td>6.932512</td>\n",
       "      <td>7.836842</td>\n",
       "      <td>54.607151</td>\n",
       "      <td>32.148935</td>\n",
       "      <td>14.403512</td>\n",
       "      <td>31.394641</td>\n",
       "      <td>17.352861</td>\n",
       "      <td>12.685285</td>\n",
       "    </tr>\n",
       "    <tr>\n",
       "      <th>11</th>\n",
       "      <td>gemma2</td>\n",
       "      <td>aave</td>\n",
       "      <td>32.449175</td>\n",
       "      <td>2.356255</td>\n",
       "      <td>10.250553</td>\n",
       "      <td>7.602933</td>\n",
       "      <td>9.750165</td>\n",
       "      <td>64.292395</td>\n",
       "      <td>34.832877</td>\n",
       "      <td>14.386666</td>\n",
       "      <td>33.259929</td>\n",
       "      <td>16.964612</td>\n",
       "      <td>15.243870</td>\n",
       "    </tr>\n",
       "    <tr>\n",
       "      <th>12</th>\n",
       "      <td>mistral</td>\n",
       "      <td>sae</td>\n",
       "      <td>19.044580</td>\n",
       "      <td>0.859369</td>\n",
       "      <td>2.838476</td>\n",
       "      <td>6.056219</td>\n",
       "      <td>7.374620</td>\n",
       "      <td>50.394241</td>\n",
       "      <td>24.333237</td>\n",
       "      <td>12.721972</td>\n",
       "      <td>32.352007</td>\n",
       "      <td>16.448413</td>\n",
       "      <td>8.425127</td>\n",
       "    </tr>\n",
       "    <tr>\n",
       "      <th>13</th>\n",
       "      <td>mistral</td>\n",
       "      <td>aave</td>\n",
       "      <td>22.352933</td>\n",
       "      <td>1.316510</td>\n",
       "      <td>4.018128</td>\n",
       "      <td>6.476001</td>\n",
       "      <td>8.329624</td>\n",
       "      <td>55.656832</td>\n",
       "      <td>24.615227</td>\n",
       "      <td>12.966598</td>\n",
       "      <td>34.856855</td>\n",
       "      <td>16.145487</td>\n",
       "      <td>8.732458</td>\n",
       "    </tr>\n",
       "  </tbody>\n",
       "</table>\n",
       "</div>"
      ],
      "text/plain": [
       "       model dialect      ppron         i        you         we      they  \\\n",
       "0       gpt3     sae  20.274755  1.812316   4.364309   6.260919  6.027004   \n",
       "1       gpt3    aave  24.720154  2.215846   6.008119   6.987354  7.399558   \n",
       "2       gpt4     sae  16.105875  0.616029   2.728548   5.184828  5.631425   \n",
       "3       gpt4    aave  23.978082  0.888688   6.629263   7.422873  6.845614   \n",
       "4   llama3.1     sae  26.976371  2.810486   4.046316  10.915251  7.016414   \n",
       "5   llama3.1    aave  34.407346  3.785347   8.297436  12.158041  8.117716   \n",
       "6   llama3.2     sae  20.309254  1.319671   2.085490   8.285891  6.512199   \n",
       "7   llama3.2    aave  26.166607  1.885467   5.277357   9.347904  7.585069   \n",
       "8    qwen2.5     sae  18.028662  1.781504   2.761265   5.166493  6.267571   \n",
       "9    qwen2.5    aave  21.759130  1.993102   4.842842   5.703440  7.004896   \n",
       "10    gemma2     sae  23.744831  1.485979   5.393096   6.932512  7.836842   \n",
       "11    gemma2    aave  32.449175  2.356255  10.250553   7.602933  9.750165   \n",
       "12   mistral     sae  19.044580  0.859369   2.838476   6.056219  7.374620   \n",
       "13   mistral    aave  22.352933  1.316510   4.018128   6.476001  8.329624   \n",
       "\n",
       "       social     posemo     negemo     tentat    certain    percept  \n",
       "0   53.242043  24.360895  12.131979  32.979932  18.540411   8.686471  \n",
       "1   59.453840  25.122304  12.064497  36.891220  17.626230  10.568499  \n",
       "2   46.008250  21.594310  11.945476  28.805472  15.818917   8.447137  \n",
       "3   55.181119  23.346492  11.540331  31.084675  15.671372  10.698212  \n",
       "4   57.608893  26.491000  10.645497  37.784281  18.376900  12.044673  \n",
       "5   66.624358  29.436972   9.792480  39.239561  17.340709  14.278734  \n",
       "6   50.437406  23.873049  11.465409  34.620502  18.508211  10.661299  \n",
       "7   58.363086  26.839689  11.025733  37.785990  17.810907  13.301393  \n",
       "8   46.965246  24.925232  11.357583  31.654333  18.844910   9.105318  \n",
       "9   52.507019  26.744525  11.248487  34.433147  18.386696  10.667716  \n",
       "10  54.607151  32.148935  14.403512  31.394641  17.352861  12.685285  \n",
       "11  64.292395  34.832877  14.386666  33.259929  16.964612  15.243870  \n",
       "12  50.394241  24.333237  12.721972  32.352007  16.448413   8.425127  \n",
       "13  55.656832  24.615227  12.966598  34.856855  16.145487   8.732458  "
      ]
     },
     "execution_count": 3,
     "metadata": {},
     "output_type": "execute_result"
    }
   ],
   "source": [
    "ling_df "
   ]
  },
  {
   "cell_type": "code",
   "execution_count": 5,
   "metadata": {},
   "outputs": [
    {
     "data": {
      "text/plain": [
       "TtestResult(statistic=-1.7116344897967966, pvalue=0.1126628790036697, df=12.0)"
      ]
     },
     "execution_count": 5,
     "metadata": {},
     "output_type": "execute_result"
    }
   ],
   "source": [
    "from scipy import stats\n",
    "stats.ttest_ind(ling_df[ling_df['dialect'] == \"sae\"]['percept'], ling_df[ling_df['dialect'] == \"aave\"]['percept'])\n",
    "\n"
   ]
  },
  {
   "cell_type": "code",
   "execution_count": null,
   "metadata": {},
   "outputs": [],
   "source": [
    "df_uncertainty.to_csv('uncertainty.csv',header= True, index = False)"
   ]
  },
  {
   "cell_type": "markdown",
   "metadata": {},
   "source": [
    "## Extra Experiment: Using Uncensored LLAMA3.1 8B "
   ]
  },
  {
   "cell_type": "code",
   "execution_count": null,
   "metadata": {},
   "outputs": [],
   "source": [
    "df_regular_llama31"
   ]
  },
  {
   "cell_type": "code",
   "execution_count": null,
   "metadata": {},
   "outputs": [],
   "source": [
    "import pandas as pd\n",
    "from tqdm import tqdm\n",
    "from transformers import pipeline\n",
    "\n",
    "# llama3.1 8b path\n",
    "llama31_path = \"mmlu_dataset/llama3.1/\"\n",
    "\n",
    "df_llm_llama31 = pd.read_csv(llama31_path + \"aave_llm_mmlu_qna.csv\")\n",
    "\n",
    "pipe = pipeline(\"text-generation\", model=\"mlabonne/Meta-Llama-3.1-8B-Instruct-abliterated\", device=0)\n",
    "\n",
    "from qna_simulation import answer_extractor\n",
    "answer_lst = []\n",
    "question_lst = []\n",
    "subject_lst = []\n",
    "pure_question_lst =[]\n",
    "correct_answer_lst = []\n",
    "for i in tqdm(range(2)):\n",
    "    print(i)\n",
    "    question = df_llm_llama31.loc[i]['question']\n",
    "    question_lst.append(df_llm_llama31.loc[i]['question'])\n",
    "    subject_lst.append(df_llm_llama31.loc[i]['subject'])\n",
    "    pure_question_lst.append( df_llm_llama31.loc[i]['pure_question'])\n",
    "    correct_answer_lst.append( df_llm_llama31.loc[i]['correct_answer'])\n",
    "    messages = [\n",
    "        {\"role\": \"user\", \"content\": f\"Someone asked you a multiple choice question: {question}, Please first provide an detailed explaination then your final answer. You need to make your explaination sounds as natural and realistic as possible At the end, you should state the letter option (A, B, C, or D) you choose. You answer should strictly be less than 400 words.\"},\n",
    "    ]\n",
    "    try:    \n",
    "        answer = pipe(messages)[0]['generated_text'][1]['content']\n",
    "        answer_lst.append(answer)\n",
    "    except:\n",
    "        answer_lst.append(\"Answer is C\")\n",
    "letter_lst = answer_extractor(answer_lst).generate()\n",
    "\n",
    "return_df = pd.DataFrame(data = {\"subject\":subject_lst, \"question\":question_lst, \"answer\":answer_lst, \n",
    "                                \"letter_answer\": letter_lst, \"pure_question\":pure_question_lst, \"correct_answer\":correct_answer_lst})\n",
    "\n",
    "return_df.to_csv(\"uncensored_llama31_aave.csv\", header = True, index = False)\n",
    "print('job finished')"
   ]
  },
  {
   "cell_type": "code",
   "execution_count": null,
   "metadata": {},
   "outputs": [],
   "source": [
    "from qna_simulation import answer_extractor\n",
    "df_aave_uncensored = pd.read_csv('uncensored_llama31_aave.csv')\n",
    "\n",
    "matches_aave_gpt4 = extract_model_accuracy(df_aave_uncensored)\n",
    "\n",
    "\n",
    "print(matches_aave_gpt4)"
   ]
  },
  {
   "cell_type": "code",
   "execution_count": null,
   "metadata": {},
   "outputs": [],
   "source": [
    "model_accuracy_df.to_csv('model_accuracy.csv', header = True, index= False)\n"
   ]
  },
  {
   "cell_type": "code",
   "execution_count": null,
   "metadata": {
    "scrolled": true
   },
   "outputs": [],
   "source": [
    "aave_flesh_score_gpt4 = get_readability_score(df_aave_uncensored)\n",
    "grade_level_regular = np.array([categorize_score(score) for score in aave_flesh_score_gpt4])\n",
    "print(\"sae answer grade level\")\n",
    "print(np.unique(grade_level_regular, return_counts=True))"
   ]
  },
  {
   "cell_type": "code",
   "execution_count": null,
   "metadata": {
    "scrolled": true
   },
   "outputs": [],
   "source": [
    "import seaborn as sns\n",
    "df = pd.read_csv('readability_v1.csv')\n",
    "data = {\n",
    "        \"Grade Level\": ['5th grade','5th grade','5th grade','6th grade','6th grade','6th grade','7th grade','7th grade','7th grade','8th & 9th grade','8th & 9th grade','8th & 9th grade','10th to 12th grade','10th to 12th grade','10th to 12th grade','College','College','College','College Graduate','College Graduate','College Graduate','Professional','Professional','Professional'],\n",
    "        \"Question Dialect\": ['SAE',\"AAVE\",\"AAVE_RAW\",'SAE',\"AAVE\",\"AAVE_RAW\",'SAE',\"AAVE\",\"AAVE_RAW\",'SAE',\"AAVE\",\"AAVE_RAW\",'SAE',\"AAVE\",\"AAVE_RAW\",'SAE',\"AAVE\",\"AAVE_RAW\",'SAE',\"AAVE\",\"AAVE_RAW\",'SAE',\"AAVE\",\"AAVE_RAW\",],\n",
    "        \"Frequency\": [2,13,37,35,91,168,150,376,562,318,640,753,658,745,735,1210,837,574,349,52,37,9,4,3] # Notice one value is 0\n",
    "    }\n",
    "df = pd.DataFrame(data)\n",
    "\n",
    "# Plot\n",
    "plt.figure(figsize=(11, 6))\n",
    "ax = sns.barplot(\n",
    "    data=df,\n",
    "    x=\"Grade Level\",\n",
    "    y=\"Frequency\",\n",
    "    hue=\"Question Dialect\",\n",
    "    palette=\"muted\"\n",
    ")\n",
    "\n",
    "# Adding values on top of the bars\n",
    "for p in ax.patches:\n",
    "    if p.get_height() > 0:  # Only add text for bars with height > 0\n",
    "        ax.annotate(\n",
    "            f'{p.get_height():.0f}',  # Format the value as an integer\n",
    "            (p.get_x() + p.get_width() / 2., p.get_height()),  # Position at bar center\n",
    "            ha='center',  # Horizontal alignment\n",
    "            va='center',  # Vertical alignment\n",
    "            xytext=(0, 8),  # Offset text position by 8 points\n",
    "            textcoords='offset points'\n",
    "        )\n",
    "\n",
    "# Adding labels\n",
    "plt.title(f\"Distribution Flesch-Kincaid Readability Grade Level Equivalent of the Explanations({'llama3.1'})\", fontsize=16)\n",
    "plt.xlabel(\"Grade Level\", fontsize=12)\n",
    "plt.ylabel(\"Frequency\", fontsize=12)\n",
    "plt.xticks(rotation = 25)\n",
    "handles, labels = ax.get_legend_handles_labels()  # Get current handles and labels\n",
    "new_labels = ['llama3.1/SAE', 'llama3.1/AAVE', 'llama3.1-uncensored/AAVE']  # Define the new labels\n",
    "ax.legend(handles, new_labels, title='Answer Model/ Question Dialect')\n",
    "# Show the plot\n",
    "plt.savefig(\"flesch_kincaid_readability_grade_llama3.1_raw.png\", dpi=300, format='png', bbox_inches='tight')\n",
    "plt.tight_layout()\n",
    "plt.show()"
   ]
  },
  {
   "cell_type": "markdown",
   "metadata": {},
   "source": [
    "## Extra Data: Integrating Big Bench "
   ]
  },
  {
   "cell_type": "code",
   "execution_count": null,
   "metadata": {},
   "outputs": [],
   "source": [
    "df_big_bench = pd.read_csv('bigbench_hard.csv')\n",
    "df_big_bench.head()"
   ]
  },
  {
   "cell_type": "code",
   "execution_count": null,
   "metadata": {},
   "outputs": [],
   "source": [
    "df_big_bench['category'].unique()"
   ]
  },
  {
   "cell_type": "code",
   "execution_count": null,
   "metadata": {},
   "outputs": [],
   "source": [
    "csv_80 = pd.read_csv('eight_categories_unique_sae_texts.csv')\n",
    "csv_20 = pd.read_csv('additional_relationships_news_sae_texts.csv')\n",
    "total_df = pd.concat([csv_80,csv_20],ignore_index = True)\n",
    "total_df"
   ]
  },
  {
   "cell_type": "code",
   "execution_count": null,
   "metadata": {
    "scrolled": true
   },
   "outputs": [],
   "source": [
    "from aave_converter import aae_aavenue_method\n",
    "from aave_converter import aae_rulebased_persona\n",
    "import pandas as pd"
   ]
  },
  {
   "cell_type": "code",
   "execution_count": null,
   "metadata": {
    "scrolled": true
   },
   "outputs": [],
   "source": [
    "human_eval_sentences = pd.DataFrame(columns = ['original sae sentence','our conversion','AAVENUE conversion']) \n",
    "count = 0\n",
    "for sen in list(total_df['Text']):\n",
    "    count+=1\n",
    "    print(count)\n",
    "    human_eval_sentences.loc[len(human_eval_sentences)] =[sen,aae_rulebased_persona('gpt-3.5', sen),aae_aavenue_method('gpt-3.5', sen)]\n"
   ]
  },
  {
   "cell_type": "code",
   "execution_count": null,
   "metadata": {},
   "outputs": [],
   "source": [
    "human_eval_sentences"
   ]
  },
  {
   "cell_type": "code",
   "execution_count": null,
   "metadata": {},
   "outputs": [],
   "source": [
    "human_eval_sentences.to_csv('100_sample_conversions.csv',header = True, index = False)"
   ]
  },
  {
   "cell_type": "code",
   "execution_count": null,
   "metadata": {},
   "outputs": [],
   "source": []
  },
  {
   "cell_type": "code",
   "execution_count": null,
   "metadata": {},
   "outputs": [],
   "source": [
    "human_eval_sentences_sample = human_eval_sentences.sample(n=50).reset_index(drop = True)\n",
    "human_eval_sentences_sample.to_csv('human_eval_sentences_sample.csv',index = True, )"
   ]
  },
  {
   "cell_type": "code",
   "execution_count": null,
   "metadata": {},
   "outputs": [],
   "source": []
  }
 ],
 "metadata": {
  "kernelspec": {
   "display_name": "Python 3 (ipykernel)",
   "language": "python",
   "name": "python3"
  },
  "language_info": {
   "codemirror_mode": {
    "name": "ipython",
    "version": 3
   },
   "file_extension": ".py",
   "mimetype": "text/x-python",
   "name": "python",
   "nbconvert_exporter": "python",
   "pygments_lexer": "ipython3",
   "version": "3.11.4"
  }
 },
 "nbformat": 4,
 "nbformat_minor": 4
}
