{
 "cells": [
  {
   "cell_type": "markdown",
   "metadata": {},
   "source": [
    "## importing libraries"
   ]
  },
  {
   "cell_type": "code",
   "execution_count": 1,
   "metadata": {
    "scrolled": true
   },
   "outputs": [
    {
     "name": "stdout",
     "output_type": "stream",
     "text": [
      "Defaulting to user installation because normal site-packages is not writeable\n",
      "Collecting en-core-web-sm==3.7.1\n",
      "  Downloading https://github.com/explosion/spacy-models/releases/download/en_core_web_sm-3.7.1/en_core_web_sm-3.7.1-py3-none-any.whl (12.8 MB)\n",
      "\u001b[2K     \u001b[90m━━━━━━━━━━━━━━━━━━━━━━━━━━━━━━━━━━━━━━━━\u001b[0m \u001b[32m12.8/12.8 MB\u001b[0m \u001b[31m62.6 MB/s\u001b[0m eta \u001b[36m0:00:00\u001b[0ma \u001b[36m0:00:01\u001b[0m\n",
      "\u001b[?25hRequirement already satisfied: spacy<3.8.0,>=3.7.2 in /home/uar6nw/.local/lib/python3.11/site-packages (from en-core-web-sm==3.7.1) (3.7.4)\n",
      "Requirement already satisfied: spacy-legacy<3.1.0,>=3.0.11 in /home/uar6nw/.local/lib/python3.11/site-packages (from spacy<3.8.0,>=3.7.2->en-core-web-sm==3.7.1) (3.0.12)\n",
      "Requirement already satisfied: spacy-loggers<2.0.0,>=1.0.0 in /home/uar6nw/.local/lib/python3.11/site-packages (from spacy<3.8.0,>=3.7.2->en-core-web-sm==3.7.1) (1.0.5)\n",
      "Requirement already satisfied: murmurhash<1.1.0,>=0.28.0 in /home/uar6nw/.local/lib/python3.11/site-packages (from spacy<3.8.0,>=3.7.2->en-core-web-sm==3.7.1) (1.0.10)\n",
      "Requirement already satisfied: cymem<2.1.0,>=2.0.2 in /home/uar6nw/.local/lib/python3.11/site-packages (from spacy<3.8.0,>=3.7.2->en-core-web-sm==3.7.1) (2.0.8)\n",
      "Requirement already satisfied: preshed<3.1.0,>=3.0.2 in /home/uar6nw/.local/lib/python3.11/site-packages (from spacy<3.8.0,>=3.7.2->en-core-web-sm==3.7.1) (3.0.9)\n",
      "Requirement already satisfied: thinc<8.3.0,>=8.2.2 in /home/uar6nw/.local/lib/python3.11/site-packages (from spacy<3.8.0,>=3.7.2->en-core-web-sm==3.7.1) (8.2.5)\n",
      "Requirement already satisfied: wasabi<1.2.0,>=0.9.1 in /home/uar6nw/.local/lib/python3.11/site-packages (from spacy<3.8.0,>=3.7.2->en-core-web-sm==3.7.1) (1.1.3)\n",
      "Requirement already satisfied: srsly<3.0.0,>=2.4.3 in /home/uar6nw/.local/lib/python3.11/site-packages (from spacy<3.8.0,>=3.7.2->en-core-web-sm==3.7.1) (2.4.8)\n",
      "Requirement already satisfied: catalogue<2.1.0,>=2.0.6 in /home/uar6nw/.local/lib/python3.11/site-packages (from spacy<3.8.0,>=3.7.2->en-core-web-sm==3.7.1) (2.0.10)\n",
      "Requirement already satisfied: weasel<0.4.0,>=0.1.0 in /home/uar6nw/.local/lib/python3.11/site-packages (from spacy<3.8.0,>=3.7.2->en-core-web-sm==3.7.1) (0.3.4)\n",
      "Requirement already satisfied: typer<0.10.0,>=0.3.0 in /home/uar6nw/.local/lib/python3.11/site-packages (from spacy<3.8.0,>=3.7.2->en-core-web-sm==3.7.1) (0.9.4)\n",
      "Requirement already satisfied: smart-open<7.0.0,>=5.2.1 in /home/uar6nw/.local/lib/python3.11/site-packages (from spacy<3.8.0,>=3.7.2->en-core-web-sm==3.7.1) (6.4.0)\n",
      "Requirement already satisfied: tqdm<5.0.0,>=4.38.0 in /home/uar6nw/.local/lib/python3.11/site-packages (from spacy<3.8.0,>=3.7.2->en-core-web-sm==3.7.1) (4.66.5)\n",
      "Requirement already satisfied: requests<3.0.0,>=2.13.0 in /home/uar6nw/.local/lib/python3.11/site-packages (from spacy<3.8.0,>=3.7.2->en-core-web-sm==3.7.1) (2.32.3)\n",
      "Requirement already satisfied: pydantic!=1.8,!=1.8.1,<3.0.0,>=1.7.4 in /home/uar6nw/.local/lib/python3.11/site-packages (from spacy<3.8.0,>=3.7.2->en-core-web-sm==3.7.1) (2.9.1)\n",
      "Requirement already satisfied: jinja2 in /home/uar6nw/.local/lib/python3.11/site-packages (from spacy<3.8.0,>=3.7.2->en-core-web-sm==3.7.1) (3.1.4)\n",
      "Requirement already satisfied: setuptools in /home/uar6nw/.local/lib/python3.11/site-packages (from spacy<3.8.0,>=3.7.2->en-core-web-sm==3.7.1) (74.1.2)\n",
      "Requirement already satisfied: packaging>=20.0 in /home/uar6nw/.local/lib/python3.11/site-packages (from spacy<3.8.0,>=3.7.2->en-core-web-sm==3.7.1) (24.1)\n",
      "Requirement already satisfied: langcodes<4.0.0,>=3.2.0 in /home/uar6nw/.local/lib/python3.11/site-packages (from spacy<3.8.0,>=3.7.2->en-core-web-sm==3.7.1) (3.4.0)\n",
      "Requirement already satisfied: numpy>=1.19.0 in /home/uar6nw/.local/lib/python3.11/site-packages (from spacy<3.8.0,>=3.7.2->en-core-web-sm==3.7.1) (1.26.4)\n",
      "Requirement already satisfied: language-data>=1.2 in /home/uar6nw/.local/lib/python3.11/site-packages (from langcodes<4.0.0,>=3.2.0->spacy<3.8.0,>=3.7.2->en-core-web-sm==3.7.1) (1.2.0)\n",
      "Requirement already satisfied: annotated-types>=0.6.0 in /home/uar6nw/.local/lib/python3.11/site-packages (from pydantic!=1.8,!=1.8.1,<3.0.0,>=1.7.4->spacy<3.8.0,>=3.7.2->en-core-web-sm==3.7.1) (0.7.0)\n",
      "Requirement already satisfied: pydantic-core==2.23.3 in /home/uar6nw/.local/lib/python3.11/site-packages (from pydantic!=1.8,!=1.8.1,<3.0.0,>=1.7.4->spacy<3.8.0,>=3.7.2->en-core-web-sm==3.7.1) (2.23.3)\n",
      "Requirement already satisfied: typing-extensions>=4.6.1 in /home/uar6nw/.local/lib/python3.11/site-packages (from pydantic!=1.8,!=1.8.1,<3.0.0,>=1.7.4->spacy<3.8.0,>=3.7.2->en-core-web-sm==3.7.1) (4.12.2)\n",
      "Requirement already satisfied: charset-normalizer<4,>=2 in /home/uar6nw/.local/lib/python3.11/site-packages (from requests<3.0.0,>=2.13.0->spacy<3.8.0,>=3.7.2->en-core-web-sm==3.7.1) (3.3.2)\n",
      "Requirement already satisfied: idna<4,>=2.5 in /home/uar6nw/.local/lib/python3.11/site-packages (from requests<3.0.0,>=2.13.0->spacy<3.8.0,>=3.7.2->en-core-web-sm==3.7.1) (3.8)\n",
      "Requirement already satisfied: urllib3<3,>=1.21.1 in /home/uar6nw/.local/lib/python3.11/site-packages (from requests<3.0.0,>=2.13.0->spacy<3.8.0,>=3.7.2->en-core-web-sm==3.7.1) (2.2.2)\n",
      "Requirement already satisfied: certifi>=2017.4.17 in /home/uar6nw/.local/lib/python3.11/site-packages (from requests<3.0.0,>=2.13.0->spacy<3.8.0,>=3.7.2->en-core-web-sm==3.7.1) (2024.8.30)\n",
      "Requirement already satisfied: blis<0.8.0,>=0.7.8 in /home/uar6nw/.local/lib/python3.11/site-packages (from thinc<8.3.0,>=8.2.2->spacy<3.8.0,>=3.7.2->en-core-web-sm==3.7.1) (0.7.11)\n",
      "Requirement already satisfied: confection<1.0.0,>=0.0.1 in /home/uar6nw/.local/lib/python3.11/site-packages (from thinc<8.3.0,>=8.2.2->spacy<3.8.0,>=3.7.2->en-core-web-sm==3.7.1) (0.1.5)\n",
      "Requirement already satisfied: click<9.0.0,>=7.1.1 in /home/uar6nw/.local/lib/python3.11/site-packages (from typer<0.10.0,>=0.3.0->spacy<3.8.0,>=3.7.2->en-core-web-sm==3.7.1) (8.1.7)\n",
      "Requirement already satisfied: cloudpathlib<0.17.0,>=0.7.0 in /home/uar6nw/.local/lib/python3.11/site-packages (from weasel<0.4.0,>=0.1.0->spacy<3.8.0,>=3.7.2->en-core-web-sm==3.7.1) (0.16.0)\n",
      "Requirement already satisfied: MarkupSafe>=2.0 in /home/uar6nw/.local/lib/python3.11/site-packages (from jinja2->spacy<3.8.0,>=3.7.2->en-core-web-sm==3.7.1) (2.1.5)\n",
      "Requirement already satisfied: marisa-trie>=0.7.7 in /home/uar6nw/.local/lib/python3.11/site-packages (from language-data>=1.2->langcodes<4.0.0,>=3.2.0->spacy<3.8.0,>=3.7.2->en-core-web-sm==3.7.1) (1.2.0)\n",
      "\u001b[38;5;2m✔ Download and installation successful\u001b[0m\n",
      "You can now load the package via spacy.load('en_core_web_sm')\n",
      "\u001b[38;5;3m⚠ Restart to reload dependencies\u001b[0m\n",
      "If you are in a Jupyter or Colab notebook, you may need to restart Python in\n",
      "order to load all the package's dependencies. You can do this by selecting the\n",
      "'Restart kernel' or 'Restart runtime' option.\n"
     ]
    },
    {
     "name": "stderr",
     "output_type": "stream",
     "text": [
      "[nltk_data] Downloading package cmudict to /home/uar6nw/nltk_data...\n",
      "[nltk_data]   Package cmudict is already up-to-date!\n",
      "[nltk_data] Downloading package wordnet to /home/uar6nw/nltk_data...\n",
      "[nltk_data]   Package wordnet is already up-to-date!\n"
     ]
    }
   ],
   "source": [
    "import re\n",
    "import pickle\n",
    "import scipy.stats as stats\n",
    "import pandas as pd\n",
    "import numpy as np\n",
    "from tqdm import tqdm\n",
    "from getDialect import detectDialect\n",
    "import matplotlib.pyplot as plt\n",
    "from itertools import combinations\n",
    "from qna_simulation import answer_extractor\n",
    "from qna_simulation import run_simulation\n",
    "from utils import extract_model_accuracy\n",
    "from utils import build_politeness_classifier\n",
    "from utils import predict_politeness\n",
    "from utils import get_readability_score\n",
    "from utils import categorize_score\n",
    "from utils import calculate_entropy\n",
    "from utils import create_readability_plot"
   ]
  },
  {
   "cell_type": "markdown",
   "metadata": {},
   "source": [
    "## Q&A simulation (one question per subject from MMLU)\n",
    "#### This might take 3-5 minutes"
   ]
  },
  {
   "cell_type": "code",
   "execution_count": 3,
   "metadata": {
    "scrolled": true
   },
   "outputs": [
    {
     "name": "stdout",
     "output_type": "stream",
     "text": [
      "Loading phonate from configuration: default_config.json\n",
      "Finished loading models and tokenizer\n"
     ]
    },
    {
     "name": "stderr",
     "output_type": "stream",
     "text": [
      "  0%|          | 0/6 [00:00<?, ?it/s]"
     ]
    },
    {
     "name": "stdout",
     "output_type": "stream",
     "text": [
      "                                              question answer   dataset_name  \\\n",
      "0    If you follow these instructions, do you retur...      B  BigBench_hard   \n",
      "1    If you follow these instructions, do you retur...      B  BigBench_hard   \n",
      "2    If you follow these instructions, do you retur...      B  BigBench_hard   \n",
      "3    If you follow these instructions, do you retur...      A  BigBench_hard   \n",
      "4    If you follow these instructions, do you retur...      B  BigBench_hard   \n",
      "..                                                 ...    ...            ...   \n",
      "245  If you follow these instructions, do you retur...      B  BigBench_hard   \n",
      "246  If you follow these instructions, do you retur...      A  BigBench_hard   \n",
      "247  If you follow these instructions, do you retur...      B  BigBench_hard   \n",
      "248  If you follow these instructions, do you retur...      B  BigBench_hard   \n",
      "249  If you follow these instructions, do you retur...      B  BigBench_hard   \n",
      "\n",
      "     category  \n",
      "0    navigate  \n",
      "1    navigate  \n",
      "2    navigate  \n",
      "3    navigate  \n",
      "4    navigate  \n",
      "..        ...  \n",
      "245  navigate  \n",
      "246  navigate  \n",
      "247  navigate  \n",
      "248  navigate  \n",
      "249  navigate  \n",
      "\n",
      "[250 rows x 4 columns]\n"
     ]
    },
    {
     "name": "stderr",
     "output_type": "stream",
     "text": [
      " 17%|█▋        | 1/6 [00:21<01:47, 21.60s/it]"
     ]
    },
    {
     "name": "stdout",
     "output_type": "stream",
     "text": [
      "                                              question answer   dataset_name  \\\n",
      "0    Alice, Bob, and Claire are friends and avid re...      B  BigBench_hard   \n",
      "1    Alice, Bob, and Claire are friends and avid re...      A  BigBench_hard   \n",
      "2    Alice, Bob, and Claire are friends and avid re...      C  BigBench_hard   \n",
      "3    Alice, Bob, and Claire are dancers at a square...      C  BigBench_hard   \n",
      "4    Alice, Bob, and Claire are friends and avid re...      A  BigBench_hard   \n",
      "..                                                 ...    ...            ...   \n",
      "245  Alice, Bob, and Claire are holding a white ele...      C  BigBench_hard   \n",
      "246  Alice, Bob, and Claire are friends and avid re...      A  BigBench_hard   \n",
      "247  Alice, Bob, and Claire are dancers at a square...      B  BigBench_hard   \n",
      "248  Alice, Bob, and Claire are on the same team in...      A  BigBench_hard   \n",
      "249  Alice, Bob, and Claire are on the same team in...      B  BigBench_hard   \n",
      "\n",
      "                                    category  \n",
      "0    tracking_shuffled_objects_three_objects  \n",
      "1    tracking_shuffled_objects_three_objects  \n",
      "2    tracking_shuffled_objects_three_objects  \n",
      "3    tracking_shuffled_objects_three_objects  \n",
      "4    tracking_shuffled_objects_three_objects  \n",
      "..                                       ...  \n",
      "245  tracking_shuffled_objects_three_objects  \n",
      "246  tracking_shuffled_objects_three_objects  \n",
      "247  tracking_shuffled_objects_three_objects  \n",
      "248  tracking_shuffled_objects_three_objects  \n",
      "249  tracking_shuffled_objects_three_objects  \n",
      "\n",
      "[250 rows x 4 columns]\n"
     ]
    },
    {
     "name": "stderr",
     "output_type": "stream",
     "text": [
      " 33%|███▎      | 2/6 [00:31<00:59, 14.91s/it]"
     ]
    },
    {
     "name": "stdout",
     "output_type": "stream",
     "text": [
      "                                              question answer   dataset_name  \\\n",
      "0    Today, Susan went to the coffee shop. Between ...      A  BigBench_hard   \n",
      "1    Today, Emily went to the soccer field. Between...      C  BigBench_hard   \n",
      "2    Today, Susan went to the restaurant. Between w...      B  BigBench_hard   \n",
      "3    Today, James went to the beach. Between what t...      D  BigBench_hard   \n",
      "4    Today, Jason went to the movies. Between what ...      A  BigBench_hard   \n",
      "..                                                 ...    ...            ...   \n",
      "245  Today, Elizabeth went to the swimming pool. Be...      C  BigBench_hard   \n",
      "246  Today, Lisa went to the art show. Between what...      C  BigBench_hard   \n",
      "247  Today, Nancy went to the movies. Between what ...      A  BigBench_hard   \n",
      "248  Today, John went to the clothing store. Betwee...      A  BigBench_hard   \n",
      "249  Today, Kimberly went to the swimming pool. Bet...      D  BigBench_hard   \n",
      "\n",
      "               category  \n",
      "0    temporal_sequences  \n",
      "1    temporal_sequences  \n",
      "2    temporal_sequences  \n",
      "3    temporal_sequences  \n",
      "4    temporal_sequences  \n",
      "..                  ...  \n",
      "245  temporal_sequences  \n",
      "246  temporal_sequences  \n",
      "247  temporal_sequences  \n",
      "248  temporal_sequences  \n",
      "249  temporal_sequences  \n",
      "\n",
      "[250 rows x 4 columns]\n"
     ]
    },
    {
     "name": "stderr",
     "output_type": "stream",
     "text": [
      " 50%|█████     | 3/6 [00:40<00:36, 12.28s/it]"
     ]
    },
    {
     "name": "stdout",
     "output_type": "stream",
     "text": [
      "                                              question answer   dataset_name  \\\n",
      "0    Today is Christmas Eve of 1937. What is the da...      B  BigBench_hard   \n",
      "1    In the UK, people usually put the day before t...      A  BigBench_hard   \n",
      "2    Jane and John married on Jan 2, 1958. It is th...      B  BigBench_hard   \n",
      "3    Jane scheduled 3 apointments with 5 poeple for...      E  BigBench_hard   \n",
      "4    Today's meeting is rescheduled to 11 am tomorr...      B  BigBench_hard   \n",
      "..                                                 ...    ...            ...   \n",
      "245  Today is the last day of the first quarter of ...      D  BigBench_hard   \n",
      "246  Today, 8/3/1997, is a day that we will never f...      D  BigBench_hard   \n",
      "247  Today is Christmas Eve of 1937. What is the da...      B  BigBench_hard   \n",
      "248  Yesterday, Jan 21, 2011, Jane ate 2 pizzas and...      F  BigBench_hard   \n",
      "249  Jane was born on the last day of Feburary in 2...      F  BigBench_hard   \n",
      "\n",
      "               category  \n",
      "0    date_understanding  \n",
      "1    date_understanding  \n",
      "2    date_understanding  \n",
      "3    date_understanding  \n",
      "4    date_understanding  \n",
      "..                  ...  \n",
      "245  date_understanding  \n",
      "246  date_understanding  \n",
      "247  date_understanding  \n",
      "248  date_understanding  \n",
      "249  date_understanding  \n",
      "\n",
      "[250 rows x 4 columns]\n"
     ]
    },
    {
     "name": "stderr",
     "output_type": "stream",
     "text": [
      " 67%|██████▋   | 4/6 [00:49<00:21, 10.62s/it]"
     ]
    },
    {
     "name": "stdout",
     "output_type": "stream",
     "text": [
      "                                              question answer   dataset_name  \\\n",
      "0    Here is a table where the first line is a head...      E  BigBench_hard   \n",
      "1    Here is a table where the first line is a head...      C  BigBench_hard   \n",
      "2    Here is a table where the first line is a head...      C  BigBench_hard   \n",
      "3    Here is a table where the first line is a head...      A  BigBench_hard   \n",
      "4    Here is a table where the first line is a head...      C  BigBench_hard   \n",
      "..                                                 ...    ...            ...   \n",
      "141  Here is a table where the first line is a head...      E  BigBench_hard   \n",
      "142  Here is a table where the first line is a head...      B  BigBench_hard   \n",
      "143  Here is a table where the first line is a head...      D  BigBench_hard   \n",
      "144  Here is a table where the first line is a head...      E  BigBench_hard   \n",
      "145  Here is a table where the first line is a head...      C  BigBench_hard   \n",
      "\n",
      "                category  \n",
      "0    penguins_in_a_table  \n",
      "1    penguins_in_a_table  \n",
      "2    penguins_in_a_table  \n",
      "3    penguins_in_a_table  \n",
      "4    penguins_in_a_table  \n",
      "..                   ...  \n",
      "141  penguins_in_a_table  \n",
      "142  penguins_in_a_table  \n",
      "143  penguins_in_a_table  \n",
      "144  penguins_in_a_table  \n",
      "145  penguins_in_a_table  \n",
      "\n",
      "[146 rows x 4 columns]\n"
     ]
    },
    {
     "name": "stderr",
     "output_type": "stream",
     "text": [
      " 83%|████████▎ | 5/6 [00:56<00:09,  9.32s/it]"
     ]
    },
    {
     "name": "stdout",
     "output_type": "stream",
     "text": [
      "                                              question answer   dataset_name  \\\n",
      "0    How would a typical person answer each of the ...      B  BigBench_hard   \n",
      "1    How would a typical person answer each of the ...      B  BigBench_hard   \n",
      "2    How would a typical person answer each of the ...      A  BigBench_hard   \n",
      "3    How would a typical person answer each of the ...      B  BigBench_hard   \n",
      "4    How would a typical person answer each of the ...      A  BigBench_hard   \n",
      "..                                                 ...    ...            ...   \n",
      "182  How would a typical person answer each of the ...      A  BigBench_hard   \n",
      "183  How would a typical person answer each of the ...      A  BigBench_hard   \n",
      "184  How would a typical person answer each of the ...      A  BigBench_hard   \n",
      "185  How would a typical person answer each of the ...      A  BigBench_hard   \n",
      "186  How would a typical person answer each of the ...      A  BigBench_hard   \n",
      "\n",
      "             category  \n",
      "0    causal_judgement  \n",
      "1    causal_judgement  \n",
      "2    causal_judgement  \n",
      "3    causal_judgement  \n",
      "4    causal_judgement  \n",
      "..                ...  \n",
      "182  causal_judgement  \n",
      "183  causal_judgement  \n",
      "184  causal_judgement  \n",
      "185  causal_judgement  \n",
      "186  causal_judgement  \n",
      "\n",
      "[187 rows x 4 columns]\n"
     ]
    },
    {
     "name": "stderr",
     "output_type": "stream",
     "text": [
      "100%|██████████| 6/6 [01:03<00:00, 10.53s/it]\n"
     ]
    },
    {
     "data": {
      "text/html": [
       "<div>\n",
       "<style scoped>\n",
       "    .dataframe tbody tr th:only-of-type {\n",
       "        vertical-align: middle;\n",
       "    }\n",
       "\n",
       "    .dataframe tbody tr th {\n",
       "        vertical-align: top;\n",
       "    }\n",
       "\n",
       "    .dataframe thead th {\n",
       "        text-align: right;\n",
       "    }\n",
       "</style>\n",
       "<table border=\"1\" class=\"dataframe\">\n",
       "  <thead>\n",
       "    <tr style=\"text-align: right;\">\n",
       "      <th></th>\n",
       "      <th>subject</th>\n",
       "      <th>question</th>\n",
       "      <th>answer</th>\n",
       "      <th>letter_answer</th>\n",
       "      <th>pure_question</th>\n",
       "      <th>correct_answer</th>\n",
       "    </tr>\n",
       "  </thead>\n",
       "  <tbody>\n",
       "    <tr>\n",
       "      <th>0</th>\n",
       "      <td>navigate</td>\n",
       "      <td>Hey there! Can you give me a hand with this mu...</td>\n",
       "      <td>Sure, I'd be happy to help you with this multi...</td>\n",
       "      <td>B</td>\n",
       "      <td>If you follow these instructions, do you retur...</td>\n",
       "      <td>B</td>\n",
       "    </tr>\n",
       "    <tr>\n",
       "      <th>1</th>\n",
       "      <td>tracking_shuffled_objects_three_objects</td>\n",
       "      <td>Ha dair! Can yaw help me wiff one multiple cha...</td>\n",
       "      <td>Sure, I can help you with that multiple choice...</td>\n",
       "      <td>C</td>\n",
       "      <td>Alice, Bob, and Claire are friends and avid re...</td>\n",
       "      <td>B</td>\n",
       "    </tr>\n",
       "    <tr>\n",
       "      <th>2</th>\n",
       "      <td>temporal_sequences</td>\n",
       "      <td>Ha dair! I'm stuck wiff a multiple chaus quest...</td>\n",
       "      <td>Based on the information provided, we know tha...</td>\n",
       "      <td>D</td>\n",
       "      <td>Today, Susan went to the coffee shop. Between ...</td>\n",
       "      <td>A</td>\n",
       "    </tr>\n",
       "    <tr>\n",
       "      <th>3</th>\n",
       "      <td>date_understanding</td>\n",
       "      <td>Excuse me, can you help me with a multiple cho...</td>\n",
       "      <td>Sure, I can help you with that! \\n\\nTo determi...</td>\n",
       "      <td>B</td>\n",
       "      <td>Today is Christmas Eve of 1937. What is the da...</td>\n",
       "      <td>B</td>\n",
       "    </tr>\n",
       "    <tr>\n",
       "      <th>4</th>\n",
       "      <td>penguins_in_a_table</td>\n",
       "      <td>Ha, can yaw help me wiff a question? I hos a t...</td>\n",
       "      <td>Based on the given table with information abou...</td>\n",
       "      <td>F</td>\n",
       "      <td>Here is a table where the first line is a head...</td>\n",
       "      <td>E</td>\n",
       "    </tr>\n",
       "    <tr>\n",
       "      <th>5</th>\n",
       "      <td>causal_judgement</td>\n",
       "      <td>How would a typical person answer the followin...</td>\n",
       "      <td>Well, if I were the typical person who has no ...</td>\n",
       "      <td>B</td>\n",
       "      <td>How would a typical person answer each of the ...</td>\n",
       "      <td>B</td>\n",
       "    </tr>\n",
       "  </tbody>\n",
       "</table>\n",
       "</div>"
      ],
      "text/plain": [
       "                                   subject  \\\n",
       "0                                 navigate   \n",
       "1  tracking_shuffled_objects_three_objects   \n",
       "2                       temporal_sequences   \n",
       "3                       date_understanding   \n",
       "4                      penguins_in_a_table   \n",
       "5                         causal_judgement   \n",
       "\n",
       "                                            question  \\\n",
       "0  Hey there! Can you give me a hand with this mu...   \n",
       "1  Ha dair! Can yaw help me wiff one multiple cha...   \n",
       "2  Ha dair! I'm stuck wiff a multiple chaus quest...   \n",
       "3  Excuse me, can you help me with a multiple cho...   \n",
       "4  Ha, can yaw help me wiff a question? I hos a t...   \n",
       "5  How would a typical person answer the followin...   \n",
       "\n",
       "                                              answer letter_answer  \\\n",
       "0  Sure, I'd be happy to help you with this multi...             B   \n",
       "1  Sure, I can help you with that multiple choice...             C   \n",
       "2  Based on the information provided, we know tha...             D   \n",
       "3  Sure, I can help you with that! \\n\\nTo determi...             B   \n",
       "4  Based on the given table with information abou...             F   \n",
       "5  Well, if I were the typical person who has no ...             B   \n",
       "\n",
       "                                       pure_question correct_answer  \n",
       "0  If you follow these instructions, do you retur...              B  \n",
       "1  Alice, Bob, and Claire are friends and avid re...              B  \n",
       "2  Today, Susan went to the coffee shop. Between ...              A  \n",
       "3  Today is Christmas Eve of 1937. What is the da...              B  \n",
       "4  Here is a table where the first line is a head...              E  \n",
       "5  How would a typical person answer each of the ...              B  "
      ]
     },
     "execution_count": 3,
     "metadata": {},
     "output_type": "execute_result"
    }
   ],
   "source": [
    "## loading dataset names from pickle file\n",
    "dataset_name = \"bigbench\"\n",
    "\n",
    "if dataset_name == 'bigbench':\n",
    "    category_names = ['navigate', 'tracking_shuffled_objects_three_objects','temporal_sequences', 'date_understanding', 'penguins_in_a_table','causal_judgement']\n",
    "else:\n",
    "    with open(\"dataset_name.pkl\", \"rb\") as f:\n",
    "        category_names = pickle.load(f)\n",
    "\n",
    "\n",
    "\n",
    "'''\n",
    "important note:\n",
    "parameter \"aave\" = True means you want to change the whole question prompt to AAVE \n",
    "However, the \"aave_instruct\" = True just means you only want to change the instruction part of the question prompt to AAVE, \n",
    "the acutal question remains SAE. \"aave\" and \"aave_instruct\" can not both be True.\n",
    "'''\n",
    "\n",
    "df_regular = run_simulation(dataset_name = dataset_name, category_names =category_names,   model_name = \"gpt-3.5\", aave= True, n_run = 1, aave_instruct = False, converter_type = \"both\")\n",
    "\n",
    "df_regular"
   ]
  },
  {
   "cell_type": "markdown",
   "metadata": {},
   "source": [
    "## loading the Q&A simulation dataset from 7 different models"
   ]
  },
  {
   "cell_type": "code",
   "execution_count": 2,
   "metadata": {},
   "outputs": [],
   "source": [
    "\n",
    "gpt3_path = \"mmlu_dataset/gpt3/\"\n",
    "gpt4_path = \"mmlu_dataset/gpt4/\"\n",
    "llama31_path = \"mmlu_dataset/llama3.1/\"\n",
    "qwen_path = \"mmlu_dataset/qwen2.5/\"\n",
    "llama32_path = \"mmlu_dataset/llama3.2/\"\n",
    "gemma_path = \"mmlu_dataset/gemma2/\"\n",
    "mistral_path = \"mmlu_dataset/mistral/\"\n",
    "\n",
    "df_regular_gpt3 = pd.read_csv(gpt3_path+'regular_mmlu_qna.csv')\n",
    "df_phonate_gpt3 = pd.read_csv(gpt3_path+'aave_phonate_mmlu_qna.csv')\n",
    "df_llm_gpt3 = pd.read_csv(gpt3_path+'aave_llm_mmlu_qna.csv')\n",
    "df_multivalue_gpt3 =  pd.read_csv(gpt3_path+'aave_multi_value_mmlu_qna.csv')\n",
    "df_multi_phonate_gpt3 = pd.read_csv(gpt3_path+'aave_multi_phonate_mmlu_qna.csv')\n",
    "\n",
    "df_regular_gpt4 = pd.read_csv(gpt4_path+'regular_mmlu_qna.csv')\n",
    "df_phonate_gpt4 = pd.read_csv(gpt4_path+'aave_phonate_mmlu_qna.csv')\n",
    "df_multivalue_gpt4 = pd.read_csv(gpt4_path+'aave_multi_value_mmlu_qna.csv')\n",
    "df_llm_gpt4 = pd.read_csv(gpt4_path+'aave_llm_mmlu_qna.csv')\n",
    "df_multi_phonate_gpt4 = pd.read_csv(gpt4_path+'aave_multi_phonate_mmlu_qna.csv')\n",
    "\n",
    "df_regular_llama31 = pd.read_csv(llama31_path + \"regular_mmlu_qna.csv\")\n",
    "df_phonate_llama31 = pd.read_csv(llama31_path + \"aave_phonate_mmlu_qna.csv\")\n",
    "df_llm_llama31 = pd.read_csv(llama31_path + \"aave_llm_mmlu_qna.csv\")\n",
    "df_multi_phonate_llama31 = pd.read_csv(llama31_path + \"aave_multi_phonate_mmlu_qna.csv\")\n",
    "df_multivalue_llama31 = pd.read_csv(llama31_path + \"aave_multi_value_mmlu_qna.csv\")\n",
    "\n",
    "df_regular_llama32 = pd.read_csv(llama32_path + \"regular_mmlu_qna.csv\")\n",
    "df_phonate_llama32 = pd.read_csv(llama32_path + \"aave_phonate_mmlu_qna.csv\")\n",
    "df_llm_llama32 = pd.read_csv(llama32_path + \"aave_llm_mmlu_qna.csv\")\n",
    "df_multi_phonate_llama32 = pd.read_csv(llama32_path + \"aave_multi_phonate_mmlu_qna.csv\")\n",
    "df_multivalue_llama32 = pd.read_csv(llama32_path + \"aave_multi_value_mmlu_qna.csv\")\n",
    "\n",
    "df_regular_qwen = pd.read_csv(qwen_path + \"regular_mmlu_qna.csv\")\n",
    "df_phonate_qwen = pd.read_csv(qwen_path + \"aave_phonate_mmlu_qna.csv\")\n",
    "df_llm_qwen = pd.read_csv(qwen_path + \"aave_llm_mmlu_qna.csv\")\n",
    "df_multi_phonate_qwen = pd.read_csv(qwen_path + \"aave_multi_phonate_mmlu_qna.csv\")\n",
    "df_multivalue_qwen = pd.read_csv(qwen_path + \"aave_multi_value_mmlu_qna.csv\")\n",
    "\n",
    "df_regular_gemma2 = pd.read_csv(gemma_path + \"regular_mmlu_qna.csv\")\n",
    "df_phonate_gemma2 = pd.read_csv(gemma_path + \"aave_phonate_mmlu_qna.csv\")\n",
    "df_llm_gemma2 = pd.read_csv(gemma_path + \"aave_llm_mmlu_qna.csv\")\n",
    "df_multi_phonate_gemma2 = pd.read_csv(gemma_path + \"aave_multi_phonate_mmlu_qna.csv\")\n",
    "df_multivalue_gemma2 = pd.read_csv(gemma_path + \"aave_multi_value_mmlu_qna.csv\")\n",
    "\n",
    "df_regular_mistral = pd.read_csv(mistral_path + \"regular_mmlu_qna.csv\")\n",
    "df_phonate_mistral = pd.read_csv(mistral_path + \"aave_phonate_mmlu_qna.csv\")\n",
    "df_llm_mistral = pd.read_csv(mistral_path + \"aave_llm_mmlu_qna.csv\")\n",
    "df_multi_phonate_mistral = pd.read_csv(mistral_path + \"aave_multi_phonate_mmlu_qna.csv\")\n",
    "df_multivalue_mistral = pd.read_csv(mistral_path + \"aave_multi_value_mmlu_qna.csv\")"
   ]
  },
  {
   "cell_type": "code",
   "execution_count": 51,
   "metadata": {},
   "outputs": [
    {
     "data": {
      "image/png": "[encoded data removed]",
      "text/plain": [
       "<Figure size 1200x600 with 1 Axes>"
      ]
     },
     "metadata": {},
     "output_type": "display_data"
    }
   ],
   "source": [
    "import seaborn as sns\n",
    "df_accuracy = pd.read_csv('model_accuracy.csv')\n",
    "df_llm_only = df_accuracy[(df_accuracy['converter'] == \"none\") | (df_accuracy['converter'] == \"llm\")]\n",
    "\n",
    "data = {\n",
    "        \"Models\": list(df_llm_only['model']),\n",
    "        \"Question Dialect\": list(df_llm_only['converter']),\n",
    "        \"Accuracy\": list(df_llm_only['accuracy']) # Notice one value is 0\n",
    "    }\n",
    "df = pd.DataFrame(data)\n",
    "\n",
    "# Plot\n",
    "plt.figure(figsize=(12, 6))\n",
    "ax = sns.barplot(\n",
    "    data=df,\n",
    "    x=\"Models\",\n",
    "    y=\"Accuracy\",\n",
    "    hue=\"Question Dialect\",\n",
    "    palette=\"muted\"\n",
    ")\n",
    "\n",
    "# Adding values on top of the bars\n",
    "for p in ax.patches:\n",
    "    if p.get_height() > 0:  # Only add text for bars with height > 0\n",
    "        ax.annotate(\n",
    "            f'{p.get_height():.3f}',  # Format the value as an integer\n",
    "            (p.get_x() + p.get_width() / 2., p.get_height()),  # Position at bar center\n",
    "            ha='center',  # Horizontal alignment\n",
    "            va='center',  # Vertical alignment\n",
    "            xytext=(0, 8),  # Offset text position by 8 points\n",
    "            textcoords='offset points'\n",
    "        )\n",
    "\n",
    "# Adding labels\n",
    "plt.title(\"Average Answer Accuracy of Various LLMs on AAVE Questions V.S. SAE Questions\", fontsize=16)\n",
    "plt.xlabel(\"Models\", fontsize=12)\n",
    "plt.ylabel(\"Accuracy\", fontsize=12)\n",
    "plt.xticks(rotation = 25)\n",
    "# Change legend text\n",
    "# Show the plot\n",
    "handles, labels = ax.get_legend_handles_labels()  # Get current handles and labels\n",
    "new_labels = ['SAE', 'AAVE']  # Define the new labels\n",
    "ax.legend(handles, new_labels, title='Question Dialect')\n",
    "plt.tight_layout()\n",
    "plt.savefig(\"model_accuracy.png\", dpi=300, format='png', bbox_inches='tight')\n",
    "plt.show()"
   ]
  },
  {
   "cell_type": "code",
   "execution_count": 3,
   "metadata": {},
   "outputs": [
    {
     "name": "stdout",
     "output_type": "stream",
     "text": [
      "the accuracy of sae question from gpt4 is: 0.8259649122807018\n",
      "the accuracy of aave phonate question from gpt4 is: 0.7785964912280702\n",
      "the accuracy of aave llm question from gpt4 is: 0.7228070175438597\n",
      "the accuracy of aave multivalue question from gpt4 is: 0.8031578947368421\n",
      "the accuracy of aave multivalue + phonate question from gpt4 is: 0.8270175438596491\n"
     ]
    }
   ],
   "source": [
    "\n",
    "matches_regular_gpt4 = extract_model_accuracy(df_regular_gpt4)\n",
    "matches_phonate_gpt4 = extract_model_accuracy(df_phonate_gpt4)\n",
    "matches_llm_gpt4 =  extract_model_accuracy(df_llm_gpt4)\n",
    "matches_multi_value_gpt4 =  extract_model_accuracy(df_multi_phonate_gpt4)\n",
    "matches_multi_phonate_gpt4 =  extract_model_accuracy(df_multivalue_gpt4)\n",
    "\n",
    "print(f\"the accuracy of sae question from gpt4 is: {matches_regular_gpt4}\")\n",
    "print(f\"the accuracy of aave phonate question from gpt4 is: {matches_phonate_gpt4}\")\n",
    "print(f\"the accuracy of aave llm question from gpt4 is: {matches_llm_gpt4}\")\n",
    "print(f\"the accuracy of aave multivalue question from gpt4 is: {matches_multi_value_gpt4}\")\n",
    "print(f\"the accuracy of aave multivalue + phonate question from gpt4 is: {matches_multi_phonate_gpt4}\")"
   ]
  },
  {
   "cell_type": "markdown",
   "metadata": {},
   "source": [
    "## Experiment 1: Politeness Classification for LLM Answers\n",
    "#### This process might take more than 5 mins "
   ]
  },
  {
   "cell_type": "code",
   "execution_count": null,
   "metadata": {
    "scrolled": true
   },
   "outputs": [],
   "source": [
    "clf_polite = build_politeness_classifier()\n",
    "politeness_classification_gpt4= predict_politeness(clf_polite, df_regular_gpt4)\n",
    "print(f\"polite answer for gpt4: {politeness_classification_gpt4[0]}\")\n",
    "print(f\"neutral answer for gpt4: {politeness_classification_gpt4[1]}\")"
   ]
  },
  {
   "cell_type": "markdown",
   "metadata": {},
   "source": [
    "#### To same your time, this is the complete politeness score for all models and dialects converters. "
   ]
  },
  {
   "cell_type": "code",
   "execution_count": null,
   "metadata": {
    "scrolled": true
   },
   "outputs": [],
   "source": [
    "df_politeness_score = pd.read_csv('politeness_score.csv')\n",
    "df_politeness_score"
   ]
  },
  {
   "cell_type": "markdown",
   "metadata": {},
   "source": [
    "## Experiment 2: Readability for LLM Answers"
   ]
  },
  {
   "cell_type": "code",
   "execution_count": null,
   "metadata": {},
   "outputs": [],
   "source": [
    "reg_flesh_score_gpt4 = get_readability_score(df_regular_gpt4)\n",
    "aave_flesh_score_gpt4 = get_readability_score(df_llm_gpt4)"
   ]
  },
  {
   "cell_type": "markdown",
   "metadata": {},
   "source": [
    "#### After we get the flesch kincaid score, we want to classify each score into the corresponding grade level"
   ]
  },
  {
   "cell_type": "code",
   "execution_count": null,
   "metadata": {},
   "outputs": [],
   "source": [
    "grade_level_regular = np.array([categorize_score(score) for score in reg_flesh_score_gpt4])\n",
    "print(\"sae answer grade level\")\n",
    "print(np.unique(grade_level_regular, return_counts=True))\n",
    "grade_level_aave = np.array([categorize_score(score) for score in aave_flesh_score_gpt4])\n",
    "print(\"aave answer grade level\")\n",
    "print(np.unique(grade_level_aave, return_counts=True))"
   ]
  },
  {
   "cell_type": "markdown",
   "metadata": {},
   "source": [
    "#### Again to same your time, I have run all the readability process and here is the result for gpt4 specifically. "
   ]
  },
  {
   "cell_type": "code",
   "execution_count": 55,
   "metadata": {},
   "outputs": [
    {
     "data": {
      "image/png": "[encoded data removed]",
      "text/plain": [
       "<Figure size 1100x600 with 1 Axes>"
      ]
     },
     "metadata": {},
     "output_type": "display_data"
    }
   ],
   "source": [
    "df_readability = pd.read_csv('readability_v1.csv')\n",
    "\n",
    "create_readability_plot(df_readability, 'llama3.1')"
   ]
  },
  {
   "cell_type": "markdown",
   "metadata": {},
   "source": [
    "## Experiment 3: Linguistic Marker Analysis "
   ]
  },
  {
   "cell_type": "code",
   "execution_count": null,
   "metadata": {},
   "outputs": [],
   "source": [
    "import re\n",
    "from collections import Counter\n",
    "\n",
    "def tokenize(text):\n",
    "    # you may want to use a smarter tokenizer\n",
    "    for match in re.finditer(r'\\w+', text, re.UNICODE):\n",
    "        yield match.group(0)\n",
    "\n",
    "import liwc\n",
    "parse, category_names = liwc.load_token_parser('LIWC2007_English100131.dic')"
   ]
  },
  {
   "cell_type": "code",
   "execution_count": null,
   "metadata": {},
   "outputs": [],
   "source": [
    "\n",
    "def create_ling_marker_df (df, model, dialect):\n",
    "    merged_counter_sae = Counter()\n",
    "    token_num_sae = 0\n",
    "    for i in range(len(df)):\n",
    "        answer  = df.loc[i]['answer']\n",
    "        count_tokens = tokenize(answer)\n",
    "        for tok in count_tokens:\n",
    "            token_num_sae+=1\n",
    "        answer_tokens = tokenize(answer)\n",
    "    \n",
    "        # now flatmap over all the categories in all of the tokens using a generator:\n",
    "        answer_counts = Counter(category for token in answer_tokens for category in parse(token))\n",
    "        # and print the results:\n",
    "        merged_counter_sae +=answer_counts\n",
    "    normalized_counter_sae = Counter({word: (count / token_num_sae)*1000 for word, count in merged_counter_sae.items()})\n",
    "    ling_count = [model, dialect]\n",
    "    columns = ['ppron','i','you','we','they','social','posemo','negemo','tentat','certain','percept']\n",
    "    for i in columns:\n",
    "        ling_count.append(normalized_counter_sae[i])\n",
    "    return ling_count\n",
    "\n"
   ]
  },
  {
   "cell_type": "code",
   "execution_count": 2,
   "metadata": {},
   "outputs": [],
   "source": [
    "df_ling = pd.read_csv('linguistic_marker.csv')"
   ]
  },
  {
   "cell_type": "code",
   "execution_count": 5,
   "metadata": {},
   "outputs": [
    {
     "name": "stdout",
     "output_type": "stream",
     "text": [
      "0     20.274755\n",
      "2     16.105875\n",
      "4     26.976371\n",
      "6     20.309254\n",
      "8     18.028662\n",
      "10    23.744831\n",
      "12    19.044580\n",
      "Name: ppron, dtype: float64\n",
      "0     1.812316\n",
      "2     0.616029\n",
      "4     2.810486\n",
      "6     1.319671\n",
      "8     1.781504\n",
      "10    1.485979\n",
      "12    0.859369\n",
      "Name: i, dtype: float64\n",
      "0     4.364309\n",
      "2     2.728548\n",
      "4     4.046316\n",
      "6     2.085490\n",
      "8     2.761265\n",
      "10    5.393096\n",
      "12    2.838476\n",
      "Name: you, dtype: float64\n",
      "0      6.260919\n",
      "2      5.184828\n",
      "4     10.915251\n",
      "6      8.285891\n",
      "8      5.166493\n",
      "10     6.932512\n",
      "12     6.056219\n",
      "Name: we, dtype: float64\n",
      "0     6.027004\n",
      "2     5.631425\n",
      "4     7.016414\n",
      "6     6.512199\n",
      "8     6.267571\n",
      "10    7.836842\n",
      "12    7.374620\n",
      "Name: they, dtype: float64\n",
      "0     53.242043\n",
      "2     46.008250\n",
      "4     57.608893\n",
      "6     50.437406\n",
      "8     46.965246\n",
      "10    54.607151\n",
      "12    50.394241\n",
      "Name: social, dtype: float64\n",
      "0     24.360895\n",
      "2     21.594310\n",
      "4     26.491000\n",
      "6     23.873049\n",
      "8     24.925232\n",
      "10    32.148935\n",
      "12    24.333237\n",
      "Name: posemo, dtype: float64\n",
      "0     12.131979\n",
      "2     11.945476\n",
      "4     10.645497\n",
      "6     11.465409\n",
      "8     11.357583\n",
      "10    14.403512\n",
      "12    12.721972\n",
      "Name: negemo, dtype: float64\n",
      "0     32.979932\n",
      "2     28.805472\n",
      "4     37.784281\n",
      "6     34.620502\n",
      "8     31.654333\n",
      "10    31.394641\n",
      "12    32.352007\n",
      "Name: tentat, dtype: float64\n",
      "0     18.540411\n",
      "2     15.818917\n",
      "4     18.376900\n",
      "6     18.508211\n",
      "8     18.844910\n",
      "10    17.352861\n",
      "12    16.448413\n",
      "Name: certain, dtype: float64\n",
      "0      8.686471\n",
      "2      8.447137\n",
      "4     12.044673\n",
      "6     10.661299\n",
      "8      9.105318\n",
      "10    12.685285\n",
      "12     8.425127\n",
      "Name: percept, dtype: float64\n"
     ]
    }
   ],
   "source": [
    "lst = [\n",
    " 'ppron',\n",
    " 'i',\n",
    " 'you',\n",
    " 'we',\n",
    " 'they',\n",
    " 'social',\n",
    " 'posemo',\n",
    " 'negemo',\n",
    " 'tentat',\n",
    " 'certain',\n",
    " 'percept']\n",
    "for i in lst:\n",
    "    sae_df = df_ling[df_ling['dialect']=='sae'][i]\n",
    "    aave_df = df_ling[df_ling['dialect']=='aave'][i]"
   ]
  },
  {
   "cell_type": "code",
   "execution_count": 66,
   "metadata": {},
   "outputs": [
    {
     "data": {
      "image/png": "[encoded data removed]",
      "text/plain": [
       "<Figure size 1200x600 with 1 Axes>"
      ]
     },
     "metadata": {},
     "output_type": "display_data"
    }
   ],
   "source": [
    "import pandas as pd\n",
    "import seaborn as sns\n",
    "import matplotlib.pyplot as plt\n",
    "#'you'\n",
    "# 'ppron'\n",
    "#'social'\n",
    "#'posemo'\n",
    "#'tentat'\n",
    "#'percept'\n",
    "# Group by 'model' and 'dialect' and extract a specific column, e.g., 'ppron'\n",
    "marker = 'percept'\n",
    "plot_data = df_ling.pivot(index='model', columns='dialect', values=marker)\n",
    "\n",
    "# Melt the pivoted DataFrame to long format for seaborn\n",
    "df_long = plot_data.reset_index().melt(id_vars='model', var_name='Question Dialect', value_name='Frequency')\n",
    "\n",
    "# Plot with seaborn\n",
    "plt.figure(figsize=(12, 6))\n",
    "ax = sns.barplot(\n",
    "    data=df_long,\n",
    "    x=\"model\",\n",
    "    y=\"Frequency\",\n",
    "    hue=\"Question Dialect\",\n",
    "    palette=\"muted\"\n",
    ")\n",
    "\n",
    "# Adding values on top of the bars\n",
    "for p in ax.patches:\n",
    "    if p.get_height() > 0:  # Only add text for bars with height > 0\n",
    "        ax.annotate(\n",
    "            f'{p.get_height():.3f}',  # Format the value as an integer\n",
    "            (p.get_x() + p.get_width() / 2., p.get_height()),  # Position at bar center\n",
    "            ha='center',  # Horizontal alignment\n",
    "            va='center',  # Vertical alignment\n",
    "            xytext=(0, 8),  # Offset text position by 8 points\n",
    "            textcoords='offset points'\n",
    "        )\n",
    "\n",
    "# Adding labels\n",
    "plt.title(f'Linguistic Marker {marker} Frequency Per 1000 Tokens', fontsize=16)\n",
    "plt.xlabel(\"Models\", fontsize=12)\n",
    "plt.ylabel(\"Frequency per 1000 tokens\", fontsize=12)\n",
    "plt.xticks(rotation=25)\n",
    "\n",
    "# # Change legend text\n",
    "# plt.legend(title=\"Question Dialect\")\n",
    "handles, labels = ax.get_legend_handles_labels()  # Get current handles and labels\n",
    "new_labels = ['AAVE', 'SAE']  # Define the new labels\n",
    "ax.legend(handles, new_labels, title='Question Dialect')\n",
    "\n",
    "# Tight layout to avoid overlap\n",
    "plt.tight_layout()\n",
    "plt.savefig(f\"liwc_{marker}.png\", dpi=300, format='png', bbox_inches='tight')\n",
    "\n",
    "# Show the plot\n",
    "plt.show()\n"
   ]
  },
  {
   "cell_type": "markdown",
   "metadata": {},
   "source": [
    "## Experiment 4: Uncertainty in the Answer Produced by LLMs."
   ]
  },
  {
   "cell_type": "markdown",
   "metadata": {},
   "source": [
    "with open(\"dataset_name.pkl\", \"rb\") as f:\n",
    "    dataset_names = pickle.load(f)\n",
    "    \n",
    "for i in range(10):\n",
    "    df_regular = run_simulation(dataset_names = dataset_names, model_name = \"gpt-3.5\", aave= False, n_run = 1, aave_instruct = False, converter_type = \"both\")\n",
    "    df_regular.to_csv(f'uncertainty_exp/sae_uncertainty_{i}.csv', header = True, index = False)"
   ]
  },
  {
   "cell_type": "raw",
   "metadata": {
    "scrolled": true
   },
   "source": [
    "with open(\"dataset_name.pkl\", \"rb\") as f:\n",
    "    dataset_names = pickle.load(f)\n",
    "for i in range(10):\n",
    "    df_regular = run_simulation(dataset_names = dataset_names, model_name = \"llama3.1\", aave= True, n_run = 1, aave_instruct = False, converter_type = \"llm_rulebased_persona\")\n",
    "    df_regular.to_csv(f'uncertainty_exp/llama3.1/aave_uncertainty_{i}.csv', header = True, index = False)"
   ]
  },
  {
   "cell_type": "code",
   "execution_count": 8,
   "metadata": {},
   "outputs": [
    {
     "name": "stdout",
     "output_type": "stream",
     "text": [
      "0.6126960604186913\n",
      "0.9091018898850336\n"
     ]
    }
   ],
   "source": [
    "llm_model = \"gpt-3.5\"\n",
    "df = pd.read_csv(f'uncertainty_exp/{llm_model}/aave_uncertainty_0.csv')\n",
    "columns = df.columns\n",
    "sae_uncertainty_df = pd.DataFrame(columns = columns)\n",
    "aave_uncertainty_df = pd.DataFrame(columns = columns)\n",
    "\n",
    "with open(\"dataset_name.pkl\", \"rb\") as f:\n",
    "    dataset_names = pickle.load(f)\n",
    "\n",
    "for i in range(10):\n",
    "    temp_df_sae = pd.read_csv(f'uncertainty_exp/{llm_model}/sae_uncertainty_{i}.csv')\n",
    "    temp_df_aave = pd.read_csv(f'uncertainty_exp/{llm_model}/aave_uncertainty_{i}.csv')\n",
    "    sae_uncertainty_df = pd.concat([sae_uncertainty_df, temp_df_sae], ignore_index=True)\n",
    "    aave_uncertainty_df = pd.concat([aave_uncertainty_df, temp_df_aave], ignore_index=True)\n",
    "\n",
    "sae_uncertainty_df['letter_answer'] = sae_uncertainty_df['letter_answer'].str.replace(r'[()]', '', regex=True)\n",
    "aave_uncertainty_df['letter_answer'] = aave_uncertainty_df['letter_answer'].str.replace(r'[()]', '', regex=True)\n",
    "# acc_sae = extract_model_accuracy(sae_uncertainty_df)\n",
    "# acc_aave  = extract_model_accuracy(aave_uncertainty_df)\n",
    "entropy_lst_sae = []\n",
    "entropy_lst_aave = []\n",
    "for name in dataset_names:\n",
    "    name = name.split('-')[1]\n",
    "    try:\n",
    "        subject_df_sae = sae_uncertainty_df[sae_uncertainty_df['subject']==name]\n",
    "        entropy_sae = calculate_entropy(subject_df_sae['letter_answer'])\n",
    "        entropy_lst_sae.append(entropy_sae)\n",
    "        subject_df_aave = aave_uncertainty_df[aave_uncertainty_df['subject']==name]\n",
    "        entropy_aave = calculate_entropy(subject_df_aave['letter_answer'])\n",
    "        entropy_lst_aave.append(entropy_aave)\n",
    "    except:\n",
    "        continue\n",
    "print(sum(entropy_lst_sae)/len(entropy_lst_sae))\n",
    "print(sum(entropy_lst_aave)/len(entropy_lst_aave))"
   ]
  },
  {
   "cell_type": "code",
   "execution_count": 6,
   "metadata": {},
   "outputs": [
    {
     "name": "stdout",
     "output_type": "stream",
     "text": [
      "the final score f1 is: 0.812460827732843\n",
      "the final score precision is: 0.8119253202799769\n",
      "the final score recall is: 0.8144499924684327\n"
     ]
    }
   ],
   "source": [
    "from itertools import combinations\n",
    "with open(\"dataset_name.pkl\", \"rb\") as f:\n",
    "    dataset_names = pickle.load(f)\n",
    "\n",
    "\n",
    "from evaluate import load\n",
    "bertscore = load(\"bertscore\")\n",
    "bertscore_lst_f1 = []\n",
    "bertscore_lst_precision = []\n",
    "bertscore_lst_recall = []\n",
    "for name in dataset_names:\n",
    "    name = name.split('-')[1]\n",
    "    try:\n",
    "        subject_df = aave_uncertainty_df[aave_uncertainty_df['subject']==name]\n",
    "        unique_pairs = list(combinations(subject_df.index, 2))\n",
    "        references = [subject_df.loc[i[0]]['answer'] for i in unique_pairs]\n",
    "        predictions = [subject_df.loc[i[1]]['answer'] for i in unique_pairs]\n",
    "        results = bertscore.compute(predictions=predictions, references=references, model_type=\"distilbert-base-uncased\")\n",
    "        bertscore_lst_f1.append(sum(results['f1'])/len(results['f1']))\n",
    "        bertscore_lst_precision.append(sum(results['precision'])/len(results['precision']))\n",
    "        bertscore_lst_recall.append(sum(results['recall'])/len(results['recall']))\n",
    "    except:\n",
    "        continue\n",
    "print(f\"the final score f1 is: {sum(bertscore_lst_f1)/len(bertscore_lst_f1)}\")\n",
    "print(f\"the final score precision is: {sum(bertscore_lst_precision)/len(bertscore_lst_precision)}\")\n",
    "print(f\"the final score recall is: {sum(bertscore_lst_recall)/len(bertscore_lst_recall)}\")"
   ]
  },
  {
   "cell_type": "code",
   "execution_count": 7,
   "metadata": {},
   "outputs": [
    {
     "name": "stdout",
     "output_type": "stream",
     "text": [
      "the final score f1 is: 0.8482919288533075\n",
      "the final score precision is: 0.8486514486963789\n",
      "the final score recall is: 0.8481275712686872\n"
     ]
    }
   ],
   "source": [
    "with open(\"dataset_name.pkl\", \"rb\") as f:\n",
    "    dataset_names = pickle.load(f)\n",
    "\n",
    "from evaluate import load\n",
    "bertscore = load(\"bertscore\")\n",
    "bertscore_lst_f1 = []\n",
    "bertscore_lst_precision = []\n",
    "bertscore_lst_recall = []\n",
    "for name in dataset_names:\n",
    "    name = name.split('-')[1]\n",
    "    try:\n",
    "        subject_df = sae_uncertainty_df[sae_uncertainty_df['subject']==name]\n",
    "        unique_pairs = list(combinations(subject_df.index, 2))\n",
    "        references = [subject_df.loc[i[0]]['answer'] for i in unique_pairs]\n",
    "        predictions = [subject_df.loc[i[1]]['answer'] for i in unique_pairs]\n",
    "        results = bertscore.compute(predictions=predictions, references=references, model_type=\"distilbert-base-uncased\")\n",
    "        bertscore_lst_f1.append(sum(results['f1'])/len(results['f1']))\n",
    "        bertscore_lst_precision.append(sum(results['precision'])/len(results['precision']))\n",
    "        bertscore_lst_recall.append(sum(results['recall'])/len(results['recall']))\n",
    "    except:\n",
    "        continue\n",
    "print(f\"the final score f1 is: {sum(bertscore_lst_f1)/len(bertscore_lst_f1)}\")\n",
    "print(f\"the final score precision is: {sum(bertscore_lst_precision)/len(bertscore_lst_precision)}\")\n",
    "print(f\"the final score recall is: {sum(bertscore_lst_recall)/len(bertscore_lst_recall)}\")"
   ]
  },
  {
   "cell_type": "markdown",
   "metadata": {},
   "source": [
    "## Extra Experiment: Using Uncensored LLAMA3.1 8B "
   ]
  },
  {
   "cell_type": "code",
   "execution_count": null,
   "metadata": {},
   "outputs": [],
   "source": [
    "df_regular_llama31"
   ]
  },
  {
   "cell_type": "code",
   "execution_count": null,
   "metadata": {},
   "outputs": [],
   "source": [
    "import pandas as pd\n",
    "from tqdm import tqdm\n",
    "from transformers import pipeline\n",
    "\n",
    "# llama3.1 8b path\n",
    "llama31_path = \"mmlu_dataset/llama3.1/\"\n",
    "\n",
    "df_llm_llama31 = pd.read_csv(llama31_path + \"aave_llm_mmlu_qna.csv\")\n",
    "\n",
    "pipe = pipeline(\"text-generation\", model=\"mlabonne/Meta-Llama-3.1-8B-Instruct-abliterated\", device=0)\n",
    "\n",
    "from qna_simulation import answer_extractor\n",
    "answer_lst = []\n",
    "question_lst = []\n",
    "subject_lst = []\n",
    "pure_question_lst =[]\n",
    "correct_answer_lst = []\n",
    "for i in tqdm(range(2)):\n",
    "    print(i)\n",
    "    question = df_llm_llama31.loc[i]['question']\n",
    "    question_lst.append(df_llm_llama31.loc[i]['question'])\n",
    "    subject_lst.append(df_llm_llama31.loc[i]['subject'])\n",
    "    pure_question_lst.append( df_llm_llama31.loc[i]['pure_question'])\n",
    "    correct_answer_lst.append( df_llm_llama31.loc[i]['correct_answer'])\n",
    "    messages = [\n",
    "        {\"role\": \"user\", \"content\": f\"Someone asked you a multiple choice question: {question}, Please first provide an detailed explaination then your final answer. You need to make your explaination sounds as natural and realistic as possible At the end, you should state the letter option (A, B, C, or D) you choose. You answer should strictly be less than 400 words.\"},\n",
    "    ]\n",
    "    try:    \n",
    "        answer = pipe(messages)[0]['generated_text'][1]['content']\n",
    "        answer_lst.append(answer)\n",
    "    except:\n",
    "        answer_lst.append(\"Answer is C\")\n",
    "letter_lst = answer_extractor(answer_lst).generate()\n",
    "\n",
    "return_df = pd.DataFrame(data = {\"subject\":subject_lst, \"question\":question_lst, \"answer\":answer_lst, \n",
    "                                \"letter_answer\": letter_lst, \"pure_question\":pure_question_lst, \"correct_answer\":correct_answer_lst})\n",
    "\n",
    "return_df.to_csv(\"uncensored_llama31_aave.csv\", header = True, index = False)\n",
    "print('job finished')"
   ]
  },
  {
   "cell_type": "code",
   "execution_count": 7,
   "metadata": {},
   "outputs": [
    {
     "name": "stdout",
     "output_type": "stream",
     "text": [
      "0.515438596491228\n"
     ]
    }
   ],
   "source": [
    "from qna_simulation import answer_extractor\n",
    "df_aave_uncensored = pd.read_csv('uncensored_llama31_aave.csv')\n",
    "\n",
    "matches_aave_gpt4 = extract_model_accuracy(df_aave_uncensored)\n",
    "\n",
    "\n",
    "print(matches_aave_gpt4)"
   ]
  },
  {
   "cell_type": "code",
   "execution_count": 17,
   "metadata": {},
   "outputs": [],
   "source": [
    "model_accuracy_df.to_csv('model_accuracy.csv', header = True, index= False)\n"
   ]
  },
  {
   "cell_type": "code",
   "execution_count": 19,
   "metadata": {
    "scrolled": true
   },
   "outputs": [
    {
     "name": "stderr",
     "output_type": "stream",
     "text": [
      "100%|██████████| 2850/2850 [00:29<00:00, 97.51it/s] "
     ]
    },
    {
     "name": "stdout",
     "output_type": "stream",
     "text": [
      "sae answer grade level\n",
      "(array(['10th to 12th grade', '5th grade', '6th grade', '7th grade',\n",
      "       '8th & 9th grade', 'College', 'College graduate', 'Invalid Score'],\n",
      "      dtype='<U18'), array([735,  37, 168, 532, 753, 574,  37,   3]))\n"
     ]
    },
    {
     "name": "stderr",
     "output_type": "stream",
     "text": [
      "\n"
     ]
    }
   ],
   "source": [
    "aave_flesh_score_gpt4 = get_readability_score(df_aave_uncensored)\n",
    "grade_level_regular = np.array([categorize_score(score) for score in aave_flesh_score_gpt4])\n",
    "print(\"sae answer grade level\")\n",
    "print(np.unique(grade_level_regular, return_counts=True))"
   ]
  },
  {
   "cell_type": "code",
   "execution_count": null,
   "metadata": {
    "scrolled": true
   },
   "outputs": [],
   "source": [
    "import seaborn as sns\n",
    "df = pd.read_csv('readability_v1.csv')\n",
    "data = {\n",
    "        \"Grade Level\": ['5th grade','5th grade','5th grade','6th grade','6th grade','6th grade','7th grade','7th grade','7th grade','8th & 9th grade','8th & 9th grade','8th & 9th grade','10th to 12th grade','10th to 12th grade','10th to 12th grade','College','College','College','College Graduate','College Graduate','College Graduate','Professional','Professional','Professional'],\n",
    "        \"Question Dialect\": ['SAE',\"AAVE\",\"AAVE_RAW\",'SAE',\"AAVE\",\"AAVE_RAW\",'SAE',\"AAVE\",\"AAVE_RAW\",'SAE',\"AAVE\",\"AAVE_RAW\",'SAE',\"AAVE\",\"AAVE_RAW\",'SAE',\"AAVE\",\"AAVE_RAW\",'SAE',\"AAVE\",\"AAVE_RAW\",'SAE',\"AAVE\",\"AAVE_RAW\",],\n",
    "        \"Frequency\": [2,13,37,35,91,168,150,376,562,318,640,753,658,745,735,1210,837,574,349,52,37,9,4,3] # Notice one value is 0\n",
    "    }\n",
    "df = pd.DataFrame(data)\n",
    "\n",
    "# Plot\n",
    "plt.figure(figsize=(11, 6))\n",
    "ax = sns.barplot(\n",
    "    data=df,\n",
    "    x=\"Grade Level\",\n",
    "    y=\"Frequency\",\n",
    "    hue=\"Question Dialect\",\n",
    "    palette=\"muted\"\n",
    ")\n",
    "\n",
    "# Adding values on top of the bars\n",
    "for p in ax.patches:\n",
    "    if p.get_height() > 0:  # Only add text for bars with height > 0\n",
    "        ax.annotate(\n",
    "            f'{p.get_height():.0f}',  # Format the value as an integer\n",
    "            (p.get_x() + p.get_width() / 2., p.get_height()),  # Position at bar center\n",
    "            ha='center',  # Horizontal alignment\n",
    "            va='center',  # Vertical alignment\n",
    "            xytext=(0, 8),  # Offset text position by 8 points\n",
    "            textcoords='offset points'\n",
    "        )\n",
    "\n",
    "# Adding labels\n",
    "plt.title(f\"Distribution Flesch-Kincaid Readability Grade Level Equivalent of the Explanations({'llama3.1'})\", fontsize=16)\n",
    "plt.xlabel(\"Grade Level\", fontsize=12)\n",
    "plt.ylabel(\"Frequency\", fontsize=12)\n",
    "plt.xticks(rotation = 25)\n",
    "handles, labels = ax.get_legend_handles_labels()  # Get current handles and labels\n",
    "new_labels = ['llama3.1/SAE', 'llama3.1/AAVE', 'llama3.1-uncensored/AAVE']  # Define the new labels\n",
    "ax.legend(handles, new_labels, title='Answer Model/ Question Dialect')\n",
    "# Show the plot\n",
    "plt.savefig(\"flesch_kincaid_readability_grade_llama3.1_raw.png\", dpi=300, format='png', bbox_inches='tight')\n",
    "plt.tight_layout()\n",
    "plt.show()"
   ]
  },
  {
   "cell_type": "markdown",
   "metadata": {},
   "source": [
    "## Extra Data: Integrating Big Bench "
   ]
  },
  {
   "cell_type": "code",
   "execution_count": 3,
   "metadata": {},
   "outputs": [
    {
     "data": {
      "text/html": [
       "<div>\n",
       "<style scoped>\n",
       "    .dataframe tbody tr th:only-of-type {\n",
       "        vertical-align: middle;\n",
       "    }\n",
       "\n",
       "    .dataframe tbody tr th {\n",
       "        vertical-align: top;\n",
       "    }\n",
       "\n",
       "    .dataframe thead th {\n",
       "        text-align: right;\n",
       "    }\n",
       "</style>\n",
       "<table border=\"1\" class=\"dataframe\">\n",
       "  <thead>\n",
       "    <tr style=\"text-align: right;\">\n",
       "      <th></th>\n",
       "      <th>question</th>\n",
       "      <th>answer</th>\n",
       "      <th>dataset_name</th>\n",
       "      <th>category</th>\n",
       "    </tr>\n",
       "  </thead>\n",
       "  <tbody>\n",
       "    <tr>\n",
       "      <th>0</th>\n",
       "      <td>If you follow these instructions, do you retur...</td>\n",
       "      <td>B</td>\n",
       "      <td>BigBench_hard</td>\n",
       "      <td>navigate</td>\n",
       "    </tr>\n",
       "    <tr>\n",
       "      <th>1</th>\n",
       "      <td>If you follow these instructions, do you retur...</td>\n",
       "      <td>B</td>\n",
       "      <td>BigBench_hard</td>\n",
       "      <td>navigate</td>\n",
       "    </tr>\n",
       "    <tr>\n",
       "      <th>2</th>\n",
       "      <td>If you follow these instructions, do you retur...</td>\n",
       "      <td>B</td>\n",
       "      <td>BigBench_hard</td>\n",
       "      <td>navigate</td>\n",
       "    </tr>\n",
       "    <tr>\n",
       "      <th>3</th>\n",
       "      <td>If you follow these instructions, do you retur...</td>\n",
       "      <td>A</td>\n",
       "      <td>BigBench_hard</td>\n",
       "      <td>navigate</td>\n",
       "    </tr>\n",
       "    <tr>\n",
       "      <th>4</th>\n",
       "      <td>If you follow these instructions, do you retur...</td>\n",
       "      <td>B</td>\n",
       "      <td>BigBench_hard</td>\n",
       "      <td>navigate</td>\n",
       "    </tr>\n",
       "  </tbody>\n",
       "</table>\n",
       "</div>"
      ],
      "text/plain": [
       "                                            question answer   dataset_name  \\\n",
       "0  If you follow these instructions, do you retur...      B  BigBench_hard   \n",
       "1  If you follow these instructions, do you retur...      B  BigBench_hard   \n",
       "2  If you follow these instructions, do you retur...      B  BigBench_hard   \n",
       "3  If you follow these instructions, do you retur...      A  BigBench_hard   \n",
       "4  If you follow these instructions, do you retur...      B  BigBench_hard   \n",
       "\n",
       "   category  \n",
       "0  navigate  \n",
       "1  navigate  \n",
       "2  navigate  \n",
       "3  navigate  \n",
       "4  navigate  "
      ]
     },
     "execution_count": 3,
     "metadata": {},
     "output_type": "execute_result"
    }
   ],
   "source": [
    "df_big_bench = pd.read_csv('bigbench_hard.csv')\n",
    "df_big_bench.head()"
   ]
  },
  {
   "cell_type": "code",
   "execution_count": 4,
   "metadata": {},
   "outputs": [
    {
     "data": {
      "text/plain": [
       "array(['navigate', 'tracking_shuffled_objects_three_objects',\n",
       "       'temporal_sequences', 'date_understanding', 'penguins_in_a_table',\n",
       "       'causal_judgement'], dtype=object)"
      ]
     },
     "execution_count": 4,
     "metadata": {},
     "output_type": "execute_result"
    }
   ],
   "source": [
    "df_big_bench['category'].unique()"
   ]
  },
  {
   "cell_type": "code",
   "execution_count": null,
   "metadata": {},
   "outputs": [],
   "source": []
  }
 ],
 "metadata": {
  "kernelspec": {
   "display_name": "Python 3 (ipykernel)",
   "language": "python",
   "name": "python3"
  },
  "language_info": {
   "codemirror_mode": {
    "name": "ipython",
    "version": 3
   },
   "file_extension": ".py",
   "mimetype": "text/x-python",
   "name": "python",
   "nbconvert_exporter": "python",
   "pygments_lexer": "ipython3",
   "version": "3.11.4"
  }
 },
 "nbformat": 4,
 "nbformat_minor": 4
}
